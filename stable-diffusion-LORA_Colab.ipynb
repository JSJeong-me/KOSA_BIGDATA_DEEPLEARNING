{
  "nbformat": 4,
  "nbformat_minor": 0,
  "metadata": {
    "colab": {
      "provenance": [],
      "gpuType": "T4",
      "include_colab_link": true
    },
    "kernelspec": {
      "name": "python3",
      "display_name": "Python 3"
    },
    "language_info": {
      "name": "python"
    },
    "accelerator": "GPU",
    "gpuClass": "standard"
  },
  "cells": [
    {
      "cell_type": "markdown",
      "metadata": {
        "id": "view-in-github",
        "colab_type": "text"
      },
      "source": [
        "<a href=\"https://colab.research.google.com/github/JSJeong-me/KOSA_BIGDATA_DEEPLEARNING/blob/main/stable-diffusion-LORA_Colab.ipynb\" target=\"_parent\"><img src=\"https://colab.research.google.com/assets/colab-badge.svg\" alt=\"Open In Colab\"/></a>"
      ]
    },
    {
      "cell_type": "markdown",
      "source": [
        "A notebook for finetuning Stable Diffusion using LORA.\n",
        "\n",
        "Tested with [Stable Diffusion v1-5](https://huggingface.co/runwayml/stable-diffusion-v1-5).\n",
        "\n",
        "Notebook developed by [pedrogengo](https://github.com/pedrogengo)."
      ],
      "metadata": {
        "id": "EZH8PmZoncOj"
      }
    },
    {
      "cell_type": "markdown",
      "source": [
        "# SETUP"
      ],
      "metadata": {
        "id": "-n_lr2oaTB58"
      }
    },
    {
      "cell_type": "code",
      "execution_count": 1,
      "metadata": {
        "colab": {
          "base_uri": "https://localhost:8080/"
        },
        "id": "RKq5g6Inaq1g",
        "outputId": "1292667a-23bb-4e9c-e7d8-dde6d89653b5"
      },
      "outputs": [
        {
          "output_type": "stream",
          "name": "stdout",
          "text": [
            "Cloning into 'lora'...\n",
            "remote: Enumerating objects: 934, done.\u001b[K\n",
            "remote: Counting objects: 100% (418/418), done.\u001b[K\n",
            "remote: Compressing objects: 100% (111/111), done.\u001b[K\n",
            "remote: Total 934 (delta 356), reused 307 (delta 307), pack-reused 516\u001b[K\n",
            "Receiving objects: 100% (934/934), 182.96 MiB | 26.56 MiB/s, done.\n",
            "Resolving deltas: 100% (561/561), done.\n",
            "Updating files: 100% (60/60), done.\n",
            "Looking in indexes: https://pypi.org/simple, https://us-python.pkg.dev/colab-wheels/public/simple/\n",
            "Processing ./lora\n",
            "  Preparing metadata (setup.py) ... \u001b[?25l\u001b[?25hdone\n",
            "Collecting diffusers>=0.11.0 (from lora-diffusion==0.1.7)\n",
            "  Downloading diffusers-0.17.1-py3-none-any.whl (1.1 MB)\n",
            "\u001b[2K     \u001b[90m━━━━━━━━━━━━━━━━━━━━━━━━━━━━━━━━━━━━━━━━\u001b[0m \u001b[32m1.1/1.1 MB\u001b[0m \u001b[31m16.7 MB/s\u001b[0m eta \u001b[36m0:00:00\u001b[0m\n",
            "\u001b[?25hCollecting transformers>=4.25.1 (from lora-diffusion==0.1.7)\n",
            "  Downloading transformers-4.30.2-py3-none-any.whl (7.2 MB)\n",
            "\u001b[2K     \u001b[90m━━━━━━━━━━━━━━━━━━━━━━━━━━━━━━━━━━━━━━━━\u001b[0m \u001b[32m7.2/7.2 MB\u001b[0m \u001b[31m13.8 MB/s\u001b[0m eta \u001b[36m0:00:00\u001b[0m\n",
            "\u001b[?25hRequirement already satisfied: scipy in /usr/local/lib/python3.10/dist-packages (from lora-diffusion==0.1.7) (1.10.1)\n",
            "Collecting ftfy (from lora-diffusion==0.1.7)\n",
            "  Downloading ftfy-6.1.1-py3-none-any.whl (53 kB)\n",
            "\u001b[2K     \u001b[90m━━━━━━━━━━━━━━━━━━━━━━━━━━━━━━━━━━━━━━━━\u001b[0m \u001b[32m53.1/53.1 kB\u001b[0m \u001b[31m6.2 MB/s\u001b[0m eta \u001b[36m0:00:00\u001b[0m\n",
            "\u001b[?25hCollecting fire (from lora-diffusion==0.1.7)\n",
            "  Downloading fire-0.5.0.tar.gz (88 kB)\n",
            "\u001b[2K     \u001b[90m━━━━━━━━━━━━━━━━━━━━━━━━━━━━━━━━━━━━━━━━\u001b[0m \u001b[32m88.3/88.3 kB\u001b[0m \u001b[31m11.1 MB/s\u001b[0m eta \u001b[36m0:00:00\u001b[0m\n",
            "\u001b[?25h  Preparing metadata (setup.py) ... \u001b[?25l\u001b[?25hdone\n",
            "Collecting wandb (from lora-diffusion==0.1.7)\n",
            "  Downloading wandb-0.15.4-py3-none-any.whl (2.1 MB)\n",
            "\u001b[2K     \u001b[90m━━━━━━━━━━━━━━━━━━━━━━━━━━━━━━━━━━━━━━━━\u001b[0m \u001b[32m2.1/2.1 MB\u001b[0m \u001b[31m91.0 MB/s\u001b[0m eta \u001b[36m0:00:00\u001b[0m\n",
            "\u001b[?25hCollecting safetensors (from lora-diffusion==0.1.7)\n",
            "  Downloading safetensors-0.3.1-cp310-cp310-manylinux_2_17_x86_64.manylinux2014_x86_64.whl (1.3 MB)\n",
            "\u001b[2K     \u001b[90m━━━━━━━━━━━━━━━━━━━━━━━━━━━━━━━━━━━━━━━━\u001b[0m \u001b[32m1.3/1.3 MB\u001b[0m \u001b[31m84.8 MB/s\u001b[0m eta \u001b[36m0:00:00\u001b[0m\n",
            "\u001b[?25hRequirement already satisfied: opencv-python in /usr/local/lib/python3.10/dist-packages (from lora-diffusion==0.1.7) (4.7.0.72)\n",
            "Requirement already satisfied: torchvision in /usr/local/lib/python3.10/dist-packages (from lora-diffusion==0.1.7) (0.15.2+cu118)\n",
            "Collecting mediapipe (from lora-diffusion==0.1.7)\n",
            "  Downloading mediapipe-0.10.1-cp310-cp310-manylinux_2_17_x86_64.manylinux2014_x86_64.whl (33.8 MB)\n",
            "\u001b[2K     \u001b[90m━━━━━━━━━━━━━━━━━━━━━━━━━━━━━━━━━━━━━━━━\u001b[0m \u001b[32m33.8/33.8 MB\u001b[0m \u001b[31m47.0 MB/s\u001b[0m eta \u001b[36m0:00:00\u001b[0m\n",
            "\u001b[?25hRequirement already satisfied: Pillow in /usr/local/lib/python3.10/dist-packages (from diffusers>=0.11.0->lora-diffusion==0.1.7) (8.4.0)\n",
            "Requirement already satisfied: filelock in /usr/local/lib/python3.10/dist-packages (from diffusers>=0.11.0->lora-diffusion==0.1.7) (3.12.0)\n",
            "Collecting huggingface-hub>=0.13.2 (from diffusers>=0.11.0->lora-diffusion==0.1.7)\n",
            "  Downloading huggingface_hub-0.15.1-py3-none-any.whl (236 kB)\n",
            "\u001b[2K     \u001b[90m━━━━━━━━━━━━━━━━━━━━━━━━━━━━━━━━━━━━━━\u001b[0m \u001b[32m236.8/236.8 kB\u001b[0m \u001b[31m26.3 MB/s\u001b[0m eta \u001b[36m0:00:00\u001b[0m\n",
            "\u001b[?25hCollecting importlib-metadata (from diffusers>=0.11.0->lora-diffusion==0.1.7)\n",
            "  Downloading importlib_metadata-6.7.0-py3-none-any.whl (22 kB)\n",
            "Requirement already satisfied: numpy in /usr/local/lib/python3.10/dist-packages (from diffusers>=0.11.0->lora-diffusion==0.1.7) (1.22.4)\n",
            "Requirement already satisfied: regex!=2019.12.17 in /usr/local/lib/python3.10/dist-packages (from diffusers>=0.11.0->lora-diffusion==0.1.7) (2022.10.31)\n",
            "Requirement already satisfied: requests in /usr/local/lib/python3.10/dist-packages (from diffusers>=0.11.0->lora-diffusion==0.1.7) (2.27.1)\n",
            "Requirement already satisfied: packaging>=20.0 in /usr/local/lib/python3.10/dist-packages (from transformers>=4.25.1->lora-diffusion==0.1.7) (23.1)\n",
            "Requirement already satisfied: pyyaml>=5.1 in /usr/local/lib/python3.10/dist-packages (from transformers>=4.25.1->lora-diffusion==0.1.7) (6.0)\n",
            "Collecting tokenizers!=0.11.3,<0.14,>=0.11.1 (from transformers>=4.25.1->lora-diffusion==0.1.7)\n",
            "  Downloading tokenizers-0.13.3-cp310-cp310-manylinux_2_17_x86_64.manylinux2014_x86_64.whl (7.8 MB)\n",
            "\u001b[2K     \u001b[90m━━━━━━━━━━━━━━━━━━━━━━━━━━━━━━━━━━━━━━━━\u001b[0m \u001b[32m7.8/7.8 MB\u001b[0m \u001b[31m81.8 MB/s\u001b[0m eta \u001b[36m0:00:00\u001b[0m\n",
            "\u001b[?25hRequirement already satisfied: tqdm>=4.27 in /usr/local/lib/python3.10/dist-packages (from transformers>=4.25.1->lora-diffusion==0.1.7) (4.65.0)\n",
            "Requirement already satisfied: six in /usr/local/lib/python3.10/dist-packages (from fire->lora-diffusion==0.1.7) (1.16.0)\n",
            "Requirement already satisfied: termcolor in /usr/local/lib/python3.10/dist-packages (from fire->lora-diffusion==0.1.7) (2.3.0)\n",
            "Requirement already satisfied: wcwidth>=0.2.5 in /usr/local/lib/python3.10/dist-packages (from ftfy->lora-diffusion==0.1.7) (0.2.6)\n",
            "Requirement already satisfied: absl-py in /usr/local/lib/python3.10/dist-packages (from mediapipe->lora-diffusion==0.1.7) (1.4.0)\n",
            "Requirement already satisfied: attrs>=19.1.0 in /usr/local/lib/python3.10/dist-packages (from mediapipe->lora-diffusion==0.1.7) (23.1.0)\n",
            "Requirement already satisfied: flatbuffers>=2.0 in /usr/local/lib/python3.10/dist-packages (from mediapipe->lora-diffusion==0.1.7) (23.3.3)\n",
            "Requirement already satisfied: matplotlib in /usr/local/lib/python3.10/dist-packages (from mediapipe->lora-diffusion==0.1.7) (3.7.1)\n",
            "Requirement already satisfied: opencv-contrib-python in /usr/local/lib/python3.10/dist-packages (from mediapipe->lora-diffusion==0.1.7) (4.7.0.72)\n",
            "Requirement already satisfied: protobuf<4,>=3.11 in /usr/local/lib/python3.10/dist-packages (from mediapipe->lora-diffusion==0.1.7) (3.20.3)\n",
            "Collecting sounddevice>=0.4.4 (from mediapipe->lora-diffusion==0.1.7)\n",
            "  Downloading sounddevice-0.4.6-py3-none-any.whl (31 kB)\n",
            "Requirement already satisfied: torch==2.0.1 in /usr/local/lib/python3.10/dist-packages (from torchvision->lora-diffusion==0.1.7) (2.0.1+cu118)\n",
            "Requirement already satisfied: typing-extensions in /usr/local/lib/python3.10/dist-packages (from torch==2.0.1->torchvision->lora-diffusion==0.1.7) (4.5.0)\n",
            "Requirement already satisfied: sympy in /usr/local/lib/python3.10/dist-packages (from torch==2.0.1->torchvision->lora-diffusion==0.1.7) (1.11.1)\n",
            "Requirement already satisfied: networkx in /usr/local/lib/python3.10/dist-packages (from torch==2.0.1->torchvision->lora-diffusion==0.1.7) (3.1)\n",
            "Requirement already satisfied: jinja2 in /usr/local/lib/python3.10/dist-packages (from torch==2.0.1->torchvision->lora-diffusion==0.1.7) (3.1.2)\n",
            "Requirement already satisfied: triton==2.0.0 in /usr/local/lib/python3.10/dist-packages (from torch==2.0.1->torchvision->lora-diffusion==0.1.7) (2.0.0)\n",
            "Requirement already satisfied: cmake in /usr/local/lib/python3.10/dist-packages (from triton==2.0.0->torch==2.0.1->torchvision->lora-diffusion==0.1.7) (3.25.2)\n",
            "Requirement already satisfied: lit in /usr/local/lib/python3.10/dist-packages (from triton==2.0.0->torch==2.0.1->torchvision->lora-diffusion==0.1.7) (16.0.5)\n",
            "Requirement already satisfied: Click!=8.0.0,>=7.0 in /usr/local/lib/python3.10/dist-packages (from wandb->lora-diffusion==0.1.7) (8.1.3)\n",
            "Collecting GitPython!=3.1.29,>=1.0.0 (from wandb->lora-diffusion==0.1.7)\n",
            "  Downloading GitPython-3.1.31-py3-none-any.whl (184 kB)\n",
            "\u001b[2K     \u001b[90m━━━━━━━━━━━━━━━━━━━━━━━━━━━━━━━━━━━━━━\u001b[0m \u001b[32m184.3/184.3 kB\u001b[0m \u001b[31m22.0 MB/s\u001b[0m eta \u001b[36m0:00:00\u001b[0m\n",
            "\u001b[?25hRequirement already satisfied: psutil>=5.0.0 in /usr/local/lib/python3.10/dist-packages (from wandb->lora-diffusion==0.1.7) (5.9.5)\n",
            "Collecting sentry-sdk>=1.0.0 (from wandb->lora-diffusion==0.1.7)\n",
            "  Downloading sentry_sdk-1.26.0-py2.py3-none-any.whl (209 kB)\n",
            "\u001b[2K     \u001b[90m━━━━━━━━━━━━━━━━━━━━━━━━━━━━━━━━━━━━━━\u001b[0m \u001b[32m209.4/209.4 kB\u001b[0m \u001b[31m25.4 MB/s\u001b[0m eta \u001b[36m0:00:00\u001b[0m\n",
            "\u001b[?25hCollecting docker-pycreds>=0.4.0 (from wandb->lora-diffusion==0.1.7)\n",
            "  Downloading docker_pycreds-0.4.0-py2.py3-none-any.whl (9.0 kB)\n",
            "Collecting pathtools (from wandb->lora-diffusion==0.1.7)\n",
            "  Downloading pathtools-0.1.2.tar.gz (11 kB)\n",
            "  Preparing metadata (setup.py) ... \u001b[?25l\u001b[?25hdone\n",
            "Collecting setproctitle (from wandb->lora-diffusion==0.1.7)\n",
            "  Downloading setproctitle-1.3.2-cp310-cp310-manylinux_2_5_x86_64.manylinux1_x86_64.manylinux_2_17_x86_64.manylinux2014_x86_64.whl (30 kB)\n",
            "Requirement already satisfied: setuptools in /usr/local/lib/python3.10/dist-packages (from wandb->lora-diffusion==0.1.7) (67.7.2)\n",
            "Requirement already satisfied: appdirs>=1.4.3 in /usr/local/lib/python3.10/dist-packages (from wandb->lora-diffusion==0.1.7) (1.4.4)\n",
            "Collecting gitdb<5,>=4.0.1 (from GitPython!=3.1.29,>=1.0.0->wandb->lora-diffusion==0.1.7)\n",
            "  Downloading gitdb-4.0.10-py3-none-any.whl (62 kB)\n",
            "\u001b[2K     \u001b[90m━━━━━━━━━━━━━━━━━━━━━━━━━━━━━━━━━━━━━━━━\u001b[0m \u001b[32m62.7/62.7 kB\u001b[0m \u001b[31m9.0 MB/s\u001b[0m eta \u001b[36m0:00:00\u001b[0m\n",
            "\u001b[?25hRequirement already satisfied: fsspec in /usr/local/lib/python3.10/dist-packages (from huggingface-hub>=0.13.2->diffusers>=0.11.0->lora-diffusion==0.1.7) (2023.4.0)\n",
            "Requirement already satisfied: urllib3<1.27,>=1.21.1 in /usr/local/lib/python3.10/dist-packages (from requests->diffusers>=0.11.0->lora-diffusion==0.1.7) (1.26.15)\n",
            "Requirement already satisfied: certifi>=2017.4.17 in /usr/local/lib/python3.10/dist-packages (from requests->diffusers>=0.11.0->lora-diffusion==0.1.7) (2022.12.7)\n",
            "Requirement already satisfied: charset-normalizer~=2.0.0 in /usr/local/lib/python3.10/dist-packages (from requests->diffusers>=0.11.0->lora-diffusion==0.1.7) (2.0.12)\n",
            "Requirement already satisfied: idna<4,>=2.5 in /usr/local/lib/python3.10/dist-packages (from requests->diffusers>=0.11.0->lora-diffusion==0.1.7) (3.4)\n",
            "Requirement already satisfied: CFFI>=1.0 in /usr/local/lib/python3.10/dist-packages (from sounddevice>=0.4.4->mediapipe->lora-diffusion==0.1.7) (1.15.1)\n",
            "Requirement already satisfied: zipp>=0.5 in /usr/local/lib/python3.10/dist-packages (from importlib-metadata->diffusers>=0.11.0->lora-diffusion==0.1.7) (3.15.0)\n",
            "Requirement already satisfied: contourpy>=1.0.1 in /usr/local/lib/python3.10/dist-packages (from matplotlib->mediapipe->lora-diffusion==0.1.7) (1.0.7)\n",
            "Requirement already satisfied: cycler>=0.10 in /usr/local/lib/python3.10/dist-packages (from matplotlib->mediapipe->lora-diffusion==0.1.7) (0.11.0)\n",
            "Requirement already satisfied: fonttools>=4.22.0 in /usr/local/lib/python3.10/dist-packages (from matplotlib->mediapipe->lora-diffusion==0.1.7) (4.39.3)\n",
            "Requirement already satisfied: kiwisolver>=1.0.1 in /usr/local/lib/python3.10/dist-packages (from matplotlib->mediapipe->lora-diffusion==0.1.7) (1.4.4)\n",
            "Requirement already satisfied: pyparsing>=2.3.1 in /usr/local/lib/python3.10/dist-packages (from matplotlib->mediapipe->lora-diffusion==0.1.7) (3.0.9)\n",
            "Requirement already satisfied: python-dateutil>=2.7 in /usr/local/lib/python3.10/dist-packages (from matplotlib->mediapipe->lora-diffusion==0.1.7) (2.8.2)\n",
            "Requirement already satisfied: pycparser in /usr/local/lib/python3.10/dist-packages (from CFFI>=1.0->sounddevice>=0.4.4->mediapipe->lora-diffusion==0.1.7) (2.21)\n",
            "Collecting smmap<6,>=3.0.1 (from gitdb<5,>=4.0.1->GitPython!=3.1.29,>=1.0.0->wandb->lora-diffusion==0.1.7)\n",
            "  Downloading smmap-5.0.0-py3-none-any.whl (24 kB)\n",
            "Requirement already satisfied: MarkupSafe>=2.0 in /usr/local/lib/python3.10/dist-packages (from jinja2->torch==2.0.1->torchvision->lora-diffusion==0.1.7) (2.1.2)\n",
            "Requirement already satisfied: mpmath>=0.19 in /usr/local/lib/python3.10/dist-packages (from sympy->torch==2.0.1->torchvision->lora-diffusion==0.1.7) (1.3.0)\n",
            "Building wheels for collected packages: lora-diffusion, fire, pathtools\n",
            "  Building wheel for lora-diffusion (setup.py) ... \u001b[?25l\u001b[?25hdone\n",
            "  Created wheel for lora-diffusion: filename=lora_diffusion-0.1.7-py3-none-any.whl size=37990 sha256=18a9f2727e1baeec78abef582307331402bf9b81254351347d4917fb3285ab39\n",
            "  Stored in directory: /tmp/pip-ephem-wheel-cache-mrb1n1fe/wheels/a8/5d/e0/6edac6eb242b4f998d865958564c188631180aeb9ffb4dda7c\n",
            "  Building wheel for fire (setup.py) ... \u001b[?25l\u001b[?25hdone\n",
            "  Created wheel for fire: filename=fire-0.5.0-py2.py3-none-any.whl size=116932 sha256=c87bb8ada4173d081e2ed3808e13e56434d812fb52ef25f20259244fb0e38d32\n",
            "  Stored in directory: /root/.cache/pip/wheels/90/d4/f7/9404e5db0116bd4d43e5666eaa3e70ab53723e1e3ea40c9a95\n",
            "  Building wheel for pathtools (setup.py) ... \u001b[?25l\u001b[?25hdone\n",
            "  Created wheel for pathtools: filename=pathtools-0.1.2-py3-none-any.whl size=8791 sha256=60707ca2252b2415784b165a7bbdcb237f55312e591e1af5d8b93d510c6a5ddb\n",
            "  Stored in directory: /root/.cache/pip/wheels/e7/f3/22/152153d6eb222ee7a56ff8617d80ee5207207a8c00a7aab794\n",
            "Successfully built lora-diffusion fire pathtools\n",
            "Installing collected packages: tokenizers, safetensors, pathtools, smmap, setproctitle, sentry-sdk, importlib-metadata, ftfy, fire, docker-pycreds, sounddevice, huggingface-hub, gitdb, transformers, mediapipe, GitPython, diffusers, wandb, lora-diffusion\n",
            "Successfully installed GitPython-3.1.31 diffusers-0.17.1 docker-pycreds-0.4.0 fire-0.5.0 ftfy-6.1.1 gitdb-4.0.10 huggingface-hub-0.15.1 importlib-metadata-6.7.0 lora-diffusion-0.1.7 mediapipe-0.10.1 pathtools-0.1.2 safetensors-0.3.1 sentry-sdk-1.26.0 setproctitle-1.3.2 smmap-5.0.0 sounddevice-0.4.6 tokenizers-0.13.3 transformers-4.30.2 wandb-0.15.4\n",
            "Looking in indexes: https://pypi.org/simple, https://us-python.pkg.dev/colab-wheels/public/simple/\n",
            "Collecting accelerate\n",
            "  Downloading accelerate-0.20.3-py3-none-any.whl (227 kB)\n",
            "\u001b[2K     \u001b[90m━━━━━━━━━━━━━━━━━━━━━━━━━━━━━━━━━━━━━━━\u001b[0m \u001b[32m227.6/227.6 kB\u001b[0m \u001b[31m5.8 MB/s\u001b[0m eta \u001b[36m0:00:00\u001b[0m\n",
            "\u001b[?25hCollecting bitsandbytes\n",
            "  Downloading bitsandbytes-0.39.1-py3-none-any.whl (97.1 MB)\n",
            "\u001b[2K     \u001b[90m━━━━━━━━━━━━━━━━━━━━━━━━━━━━━━━━━━━━━━━━\u001b[0m \u001b[32m97.1/97.1 MB\u001b[0m \u001b[31m9.3 MB/s\u001b[0m eta \u001b[36m0:00:00\u001b[0m\n",
            "\u001b[?25hRequirement already satisfied: numpy>=1.17 in /usr/local/lib/python3.10/dist-packages (from accelerate) (1.22.4)\n",
            "Requirement already satisfied: packaging>=20.0 in /usr/local/lib/python3.10/dist-packages (from accelerate) (23.1)\n",
            "Requirement already satisfied: psutil in /usr/local/lib/python3.10/dist-packages (from accelerate) (5.9.5)\n",
            "Requirement already satisfied: pyyaml in /usr/local/lib/python3.10/dist-packages (from accelerate) (6.0)\n",
            "Requirement already satisfied: torch>=1.6.0 in /usr/local/lib/python3.10/dist-packages (from accelerate) (2.0.1+cu118)\n",
            "Requirement already satisfied: filelock in /usr/local/lib/python3.10/dist-packages (from torch>=1.6.0->accelerate) (3.12.0)\n",
            "Requirement already satisfied: typing-extensions in /usr/local/lib/python3.10/dist-packages (from torch>=1.6.0->accelerate) (4.5.0)\n",
            "Requirement already satisfied: sympy in /usr/local/lib/python3.10/dist-packages (from torch>=1.6.0->accelerate) (1.11.1)\n",
            "Requirement already satisfied: networkx in /usr/local/lib/python3.10/dist-packages (from torch>=1.6.0->accelerate) (3.1)\n",
            "Requirement already satisfied: jinja2 in /usr/local/lib/python3.10/dist-packages (from torch>=1.6.0->accelerate) (3.1.2)\n",
            "Requirement already satisfied: triton==2.0.0 in /usr/local/lib/python3.10/dist-packages (from torch>=1.6.0->accelerate) (2.0.0)\n",
            "Requirement already satisfied: cmake in /usr/local/lib/python3.10/dist-packages (from triton==2.0.0->torch>=1.6.0->accelerate) (3.25.2)\n",
            "Requirement already satisfied: lit in /usr/local/lib/python3.10/dist-packages (from triton==2.0.0->torch>=1.6.0->accelerate) (16.0.5)\n",
            "Requirement already satisfied: MarkupSafe>=2.0 in /usr/local/lib/python3.10/dist-packages (from jinja2->torch>=1.6.0->accelerate) (2.1.2)\n",
            "Requirement already satisfied: mpmath>=0.19 in /usr/local/lib/python3.10/dist-packages (from sympy->torch>=1.6.0->accelerate) (1.3.0)\n",
            "Installing collected packages: bitsandbytes, accelerate\n",
            "Successfully installed accelerate-0.20.3 bitsandbytes-0.39.1\n"
          ]
        }
      ],
      "source": [
        "!git clone https://github.com/cloneofsimo/lora.git && sed -i 's/functools.cache/functools.lru_cache(maxsize=None)/g' /content/lora/lora_diffusion/xformers_utils.py && pip install /content/lora\n",
        "!pip install accelerate bitsandbytes"
      ]
    },
    {
      "cell_type": "markdown",
      "source": [
        "# TRAINING"
      ],
      "metadata": {
        "id": "d9gKhQjMTEQ4"
      }
    },
    {
      "cell_type": "code",
      "source": [
        "import os\n",
        "import shutil\n",
        "from google.colab import files\n",
        "from tqdm import tqdm\n",
        "\n",
        "PRETRAINED_MODEL=\"runwayml/stable-diffusion-v1-5\" #@param{type: 'string'}\n",
        "PROMPT=\"ktn\" #@param{type: 'string'}\n",
        "\n",
        "OUTPUT_DIR=\"./\" #@param{type: 'string'}\n",
        "IMAGES_FOLDER_OPTIONAL=\"./images\" #@param{type: 'string'}\n",
        "\n",
        "RESOLUTION=\"512\" #@param [\"512\", \"576\", \"640\", \"704\", \"768\", \"832\", \"896\", \"960\", \"1024\"]\n",
        "RESOLUTION=int(RESOLUTION)\n",
        "\n",
        "if PRETRAINED_MODEL == \"\":\n",
        "  print('\u001b[1;31mYou should define the pretrained model.')\n",
        "\n",
        "else:\n",
        "  if IMAGES_FOLDER_OPTIONAL==\"\":\n",
        "    INSTANCE_DIR = \"/content/data_example\"\n",
        "    if not os.path.exists(str(INSTANCE_DIR)):\n",
        "      %mkdir -p \"$INSTANCE_DIR\"\n",
        "    uploaded = files.upload()\n",
        "    for filename in tqdm(uploaded.keys(), bar_format='  |{bar:15}| {n_fmt}/{total_fmt} Uploaded'):\n",
        "        shutil.move(filename, INSTANCE_DIR)\n",
        "  else:\n",
        "    INSTANCE_DIR = IMAGES_FOLDER_OPTIONAL\n",
        "\n",
        "  if OUTPUT_DIR == \"\":\n",
        "    OUTPUT_DIR = \"/content/output\"\n",
        "  if not os.path.exists(str(OUTPUT_DIR)):\n",
        "    %mkdir -p \"$OUTPUT_DIR\""
      ],
      "metadata": {
        "id": "RXhqKsN8cEop",
        "cellView": "form"
      },
      "execution_count": 2,
      "outputs": []
    },
    {
      "cell_type": "code",
      "source": [
        "STEPS = 300 #@param {type:\"slider\", min:0, max:10000, step:10}\n",
        "BATCH_SIZE = 1 #@param {type:\"slider\", min:0, max:128, step:1}\n",
        "FP_16 = True #@param {type:\"boolean\"}\n",
        "\n",
        "#@markdown ----\n",
        "#@markdown UNET PARAMS\n",
        "LEARNING_RATE = 3e-4 #@param {type:\"number\"}\n",
        "\n",
        "#@markdown ----\n",
        "TRAIN_TEXT_ENCODER = True #@param {type:\"boolean\"}\n",
        "#@markdown TEXT ENCODER PARAMS\n",
        "LEARNING_RATE_TEXT_ENCODER = 0.001 #@param {type:\"number\"}\n",
        "\n",
        "NEW_LEARNING_RATE = LEARNING_RATE / BATCH_SIZE\n",
        "NEW_LEARNING_RATE_TEXT_ENCODER = LEARNING_RATE_TEXT_ENCODER / BATCH_SIZE\n",
        "\n",
        "if FP_16:\n",
        "  fp_16_arg = \"fp16\"\n",
        "else:\n",
        "  fp_16_arg = \"no\"\n",
        "\n",
        "if TRAIN_TEXT_ENCODER:\n",
        "  command = (f'accelerate launch lora/training_scripts/train_lora_dreambooth.py '\n",
        "             f'--pretrained_model_name_or_path=\"{PRETRAINED_MODEL}\" '\n",
        "             f'--instance_data_dir=\"{INSTANCE_DIR}\" '\n",
        "             f'--output_dir=\"{OUTPUT_DIR}\" '\n",
        "             f'--instance_prompt=\"{PROMPT}\" '\n",
        "             f'--resolution=512 '\n",
        "             f'--use_8bit_adam '\n",
        "             f'--mixed_precision=\"{fp_16_arg}\" '\n",
        "             f'--train_batch_size=1 '\n",
        "             f'--gradient_accumulation_steps=1 '\n",
        "             f'--learning_rate={NEW_LEARNING_RATE} '\n",
        "             f'--lr_scheduler=\"constant\" '\n",
        "             f'--lr_warmup_steps=0 '\n",
        "             f'--max_train_steps={STEPS} '\n",
        "             f'--train_text_encoder '\n",
        "             f'--lora_rank=16 '\n",
        "             f'--learning_rate_text={NEW_LEARNING_RATE_TEXT_ENCODER}')\n",
        "else:\n",
        "  command = (f'accelerate launch lora/training_scripts/train_lora_dreambooth.py '\n",
        "             f'--pretrained_model_name_or_path=\"{PRETRAINED_MODEL}\" '\n",
        "             f'--instance_data_dir=\"{INSTANCE_DIR}\" '\n",
        "             f'--output_dir=\"{OUTPUT_DIR}\" '\n",
        "             f'--instance_prompt=\"{PROMPT}\" '\n",
        "             f'--resolution=512 '\n",
        "             f'--use_8bit_adam '\n",
        "             f'--mixed_precision=\"{fp_16_arg}\" '\n",
        "             f'--train_batch_size=1 '\n",
        "             f'--gradient_accumulation_steps=1 '\n",
        "             f'--learning_rate={NEW_LEARNING_RATE} '\n",
        "             f'--lr_scheduler=\"constant\" '\n",
        "             f'--lr_warmup_steps=0 '\n",
        "             f'--lora_rank=16 '\n",
        "             f'--max_train_steps={STEPS} '\n",
        "             f'--learning_rate_text={NEW_LEARNING_RATE_TEXT_ENCODER}')\n",
        "!rm -rf $INSTANCE_DIR/.ipynb_checkpoints\n",
        "!{command}"
      ],
      "metadata": {
        "id": "ZDMXQnKfat1-"
      },
      "execution_count": null,
      "outputs": []
    },
    {
      "cell_type": "markdown",
      "source": [
        "# INFERENCE"
      ],
      "metadata": {
        "id": "-DkyZBDBTPKs"
      }
    },
    {
      "cell_type": "code",
      "source": [
        "#@title LOADING MODEL AND MONKEY PATCHING IT\n",
        "import torch\n",
        "from lora_diffusion import monkeypatch_or_replace_lora, tune_lora_scale\n",
        "from diffusers import StableDiffusionPipeline\n",
        "\n",
        "\n",
        "pipe = StableDiffusionPipeline.from_pretrained(PRETRAINED_MODEL, torch_dtype=torch.float16).to(\"cuda\")\n",
        "monkeypatch_or_replace_lora(pipe.unet, torch.load(os.path.join(OUTPUT_DIR, \"lora_weight.pt\")))\n",
        "monkeypatch_or_replace_lora(pipe.text_encoder, torch.load(os.path.join(OUTPUT_DIR, \"lora_weight.text_encoder.pt\")), target_replace_module=[\"CLIPAttention\"])"
      ],
      "metadata": {
        "id": "IDArwYibSaB4"
      },
      "execution_count": null,
      "outputs": []
    },
    {
      "cell_type": "code",
      "source": [
        "pipe.safety_checker = None"
      ],
      "metadata": {
        "id": "CLV5oR3BBW69"
      },
      "execution_count": null,
      "outputs": []
    },
    {
      "cell_type": "code",
      "source": [
        "INFERENCE_PROMPT = 'heart' #@param {type:\"string\"}\n",
        "LORA_SCALE_UNET = 0.1 #@param {type:\"number\"}\n",
        "LORA_SCALE_TEXT_ENCODER = 0.1 #@param {type:\"number\"}\n",
        "GUIDANCE = 1.4 #@param {type:\"slider\", min:0, max:15, step:0.2}\n",
        "tune_lora_scale(pipe.unet, LORA_SCALE_UNET)\n",
        "if TRAIN_TEXT_ENCODER:\n",
        "  tune_lora_scale(pipe.text_encoder, LORA_SCALE_TEXT_ENCODER)\n",
        "image = pipe(INFERENCE_PROMPT, num_inference_steps=50, guidance_scale=GUIDANCE).images[0]\n",
        "image"
      ],
      "metadata": {
        "id": "uy27Q47sa-ua"
      },
      "execution_count": null,
      "outputs": []
    },
    {
      "cell_type": "code",
      "source": [],
      "metadata": {
        "id": "_Gfg7tbW58_Q"
      },
      "execution_count": null,
      "outputs": []
    }
  ]
}