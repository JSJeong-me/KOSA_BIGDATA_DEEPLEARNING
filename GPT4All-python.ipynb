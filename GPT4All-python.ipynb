{
  "nbformat": 4,
  "nbformat_minor": 0,
  "metadata": {
    "colab": {
      "provenance": [],
      "authorship_tag": "ABX9TyOfKHbE6UbiY72AGuk0825m",
      "include_colab_link": true
    },
    "kernelspec": {
      "name": "python3",
      "display_name": "Python 3"
    },
    "language_info": {
      "name": "python"
    }
  },
  "cells": [
    {
      "cell_type": "markdown",
      "metadata": {
        "id": "view-in-github",
        "colab_type": "text"
      },
      "source": [
        "<a href=\"https://colab.research.google.com/github/JSJeong-me/KOSA_BIGDATA_DEEPLEARNING/blob/main/GPT4All-python.ipynb\" target=\"_parent\"><img src=\"https://colab.research.google.com/assets/colab-badge.svg\" alt=\"Open In Colab\"/></a>"
      ]
    },
    {
      "cell_type": "code",
      "execution_count": 1,
      "metadata": {
        "colab": {
          "base_uri": "https://localhost:8080/"
        },
        "id": "mbnX7rtySef7",
        "outputId": "8ea077f3-b9b9-4ddb-8311-640b453ec594"
      },
      "outputs": [
        {
          "output_type": "stream",
          "name": "stdout",
          "text": [
            "Looking in indexes: https://pypi.org/simple, https://us-python.pkg.dev/colab-wheels/public/simple/\n",
            "Collecting gpt4all\n",
            "  Downloading gpt4all-0.3.5-py3-none-manylinux1_x86_64.whl (2.5 MB)\n",
            "\u001b[2K     \u001b[90m━━━━━━━━━━━━━━━━━━━━━━━━━━━━━━━━━━━━━━━━\u001b[0m \u001b[32m2.5/2.5 MB\u001b[0m \u001b[31m26.9 MB/s\u001b[0m eta \u001b[36m0:00:00\u001b[0m\n",
            "\u001b[?25hRequirement already satisfied: requests in /usr/local/lib/python3.10/dist-packages (from gpt4all) (2.27.1)\n",
            "Requirement already satisfied: tqdm in /usr/local/lib/python3.10/dist-packages (from gpt4all) (4.65.0)\n",
            "Requirement already satisfied: urllib3<1.27,>=1.21.1 in /usr/local/lib/python3.10/dist-packages (from requests->gpt4all) (1.26.15)\n",
            "Requirement already satisfied: certifi>=2017.4.17 in /usr/local/lib/python3.10/dist-packages (from requests->gpt4all) (2022.12.7)\n",
            "Requirement already satisfied: charset-normalizer~=2.0.0 in /usr/local/lib/python3.10/dist-packages (from requests->gpt4all) (2.0.12)\n",
            "Requirement already satisfied: idna<4,>=2.5 in /usr/local/lib/python3.10/dist-packages (from requests->gpt4all) (3.4)\n",
            "Installing collected packages: gpt4all\n",
            "Successfully installed gpt4all-0.3.5\n"
          ]
        }
      ],
      "source": [
        "!pip install gpt4all"
      ]
    },
    {
      "cell_type": "code",
      "source": [
        "import gpt4all\n",
        "\n",
        "gptj = gpt4all.GPT4All(\"ggml-gpt4all-j-v1.3-groovy\")\n",
        "messages = [{\"role\": \"user\", \"content\": \"Give me a list of 10 colors and their RGB code\"}]\n",
        "ret = gptj.chat_completion(messages)\n",
        "print(ret)"
      ],
      "metadata": {
        "colab": {
          "base_uri": "https://localhost:8080/"
        },
        "id": "6GZ3PIfKSjhC",
        "outputId": "3b204479-071a-49f6-e3dc-b8b5ce5673f8"
      },
      "execution_count": 2,
      "outputs": [
        {
          "output_type": "stream",
          "name": "stderr",
          "text": [
            "100%|██████████| 3.79G/3.79G [01:10<00:00, 53.7MiB/s]\n"
          ]
        },
        {
          "output_type": "stream",
          "name": "stdout",
          "text": [
            "Model downloaded at:  /root/.cache/gpt4all/ggml-gpt4all-j-v1.3-groovy.bin\n",
            "### Instruction: \n",
            "            The prompt below is a question to answer, a task to complete, or a conversation \n",
            "            to respond to; decide which and write an appropriate response.\n",
            "            \n",
            "### Prompt: \n",
            "Give me a list of 10 colors and their RGB code\n",
            "### Response:\n",
            " \n",
            "Here is a list of 10 colors and their RGB code:\n",
            "Red (255, 0, 0)  Green (0, 255, 0)\n",
            "Blue (0, 0, 255)  Yellow (255, 255, 0)\n",
            "Purple (128, 128, 255)  Orange (255, 127, 0)\n",
            "Black (0, 0, 0)  Gray (128, 128, 128)\n",
            "Cyan (0, 255, 255)  Magenta (255, 0, 255)\n",
            "GreenYellow (192, 192, 0)  LightBlue (0, 191, 255)\n",
            "\n",
            "{'model': 'ggml-gpt4all-j-v1.3-groovy', 'usage': {'prompt_tokens': 272, 'completion_tokens': 300, 'total_tokens': 572}, 'choices': [{'message': {'role': 'assistant', 'content': ' \\nHere is a list of 10 colors and their RGB code:\\nRed (255, 0, 0)  Green (0, 255, 0)\\nBlue (0, 0, 255)  Yellow (255, 255, 0)\\nPurple (128, 128, 255)  Orange (255, 127, 0)\\nBlack (0, 0, 0)  Gray (128, 128, 128)\\nCyan (0, 255, 255)  Magenta (255, 0, 255)\\nGreenYellow (192, 192, 0)  LightBlue (0, 191, 255)\\n'}}]}\n"
          ]
        }
      ]
    },
    {
      "cell_type": "code",
      "source": [
        "import json\n",
        "import gpt4all\n",
        "\n",
        "gptj = gpt4all.GPT4All(\"ggml-gpt4all-j-v1.3-groovy\")\n",
        "messages = [{\"role\": \"user\", \"content\": \"Can you explain what is a large language model?\"}]\n",
        "ret = gptj.chat_completion(messages)\n",
        "\n",
        "messages.append(ret[\"choices\"][0][\"message\"])\n",
        "messages.append({\"role\": \"user\", \"content\": \"Can you give some examples applications?\"})\n",
        "ret = gptj.chat_completion(messages)\n",
        "\n",
        "messages.append(ret[\"choices\"][0][\"message\"])\n",
        "messages.append({\"role\": \"user\", \"content\": \"Are there any limitations?\"})\n",
        "ret = gptj.chat_completion(messages)\n",
        "\n",
        "messages.append(ret[\"choices\"][0][\"message\"])\n",
        "messages.append({\"role\": \"user\", \"content\": \"Summarize the above in two sentences.\"})\n",
        "ret = gptj.chat_completion(messages)\n",
        "\n",
        "print(json.dumps(messages, indent=4))\n",
        "print(json.dumps(ret, indent=4))"
      ],
      "metadata": {
        "colab": {
          "base_uri": "https://localhost:8080/"
        },
        "id": "WvyilwHoTWmA",
        "outputId": "c01a0e7d-c81c-4ffc-fe0d-a8cdeb0ac757"
      },
      "execution_count": null,
      "outputs": [
        {
          "output_type": "stream",
          "name": "stdout",
          "text": [
            "Found model file at  /root/.cache/gpt4all/ggml-gpt4all-j-v1.3-groovy.bin\n",
            "### Instruction: \n",
            "            The prompt below is a question to answer, a task to complete, or a conversation \n",
            "            to respond to; decide which and write an appropriate response.\n",
            "            \n",
            "### Prompt: \n",
            "Can you explain what is a large language model?\n",
            "### Response:\n",
            " \n",
            "A large language model is a type of artificial intelligence that can process and understand natural language, including speech or text. It is designed to simulate human intelligence and can perform tasks such as answering questions, generating text or speech, and even conversing with humans. Large language models are often used in applications such as chatbots, language translation software, and virtual assistants.\n",
            "### Instruction: \n",
            "            The prompt below is a question to answer, a task to complete, or a conversation \n",
            "            to respond to; decide which and write an appropriate response.\n",
            "            \n",
            "### Prompt: \n",
            "Can you explain what is a large language model?\n",
            "### Response:  \n",
            "A large language model is a type of artificial intelligence that can process and understand natural language, including speech or text. It is designed to simulate human intelligence and can perform tasks such as answering questions, generating text or speech, and even conversing with humans. Large language models are often used in applications such as chatbots, language translation software, and virtual assistants.\n",
            "Can you give some examples applications?\n",
            "### Response:\n",
            " \n",
            "Yes, some examples of applications where large language models are used include:\n",
            "- Chatbots that can answer customer inquiries and provide personalized assistance\n",
            "- Language translation software that can translate text or speech from one language to another\n",
            "- Virtual assistants that can assist users with tasks such as scheduling appointments, making reservations or booking flights\n",
            "- Language learning software that can help users improve their language skills by providing them with examples and feedback on their speech or writing.\n",
            "### Instruction: \n",
            "            The prompt below is a question to answer, a task to complete, or a conversation \n",
            "            to respond to; decide which and write an appropriate response.\n",
            "            \n",
            "### Prompt: \n",
            "Can you explain what is a large language model?\n",
            "### Response:  \n",
            "A large language model is a type of artificial intelligence that can process and understand natural language, including speech or text. It is designed to simulate human intelligence and can perform tasks such as answering questions, generating text or speech, and even conversing with humans. Large language models are often used in applications such as chatbots, language translation software, and virtual assistants.\n",
            "Can you give some examples applications?\n",
            "### Response:  \n",
            "Yes, some examples of applications where large language models are used include:\n",
            "- Chatbots that can answer customer inquiries and provide personalized assistance\n",
            "- Language translation software that can translate text or speech from one language to another\n",
            "- Virtual assistants that can assist users with tasks such as scheduling appointments, making reservations or booking flights\n",
            "- Language learning software that can help users improve their language skills by providing them with examples and feedback on their speech or writing.\n",
            "Are there any limitations?\n",
            "### Response:\n",
            " \n",
            "Yes, there are some limitations to large language models. One of the main challenges is that they can become very large and complex, which makes it difficult to train them effectively. Additionally, large language models can be slow to process and respond, which may make them unsuitable for real-time applications. Finally, large language models can be expensive to build and maintain, which may make them less accessible to smaller organizations or individuals.\n",
            "### Instruction: \n",
            "            The prompt below is a question to answer, a task to complete, or a conversation \n",
            "            to respond to; decide which and write an appropriate response.\n",
            "            \n",
            "### Prompt: \n",
            "Can you explain what is a large language model?\n",
            "### Response:  \n",
            "A large language model is a type of artificial intelligence that can process and understand natural language, including speech or text. It is designed to simulate human intelligence and can perform tasks such as answering questions, generating text or speech, and even conversing with humans. Large language models are often used in applications such as chatbots, language translation software, and virtual assistants.\n",
            "Can you give some examples applications?\n",
            "### Response:  \n",
            "Yes, some examples of applications where large language models are used include:\n",
            "- Chatbots that can answer customer inquiries and provide personalized assistance\n",
            "- Language translation software that can translate text or speech from one language to another\n",
            "- Virtual assistants that can assist users with tasks such as scheduling appointments, making reservations or booking flights\n",
            "- Language learning software that can help users improve their language skills by providing them with examples and feedback on their speech or writing.\n",
            "Are there any limitations?\n",
            "### Response:  \n",
            "Yes, there are some limitations to large language models. One of the main challenges is that they can become very large and complex, which makes it difficult to train them effectively. Additionally, large language models can be slow to process and respond, which may make them unsuitable for real-time applications. Finally, large language models can be expensive to build and maintain, which may make them less accessible to smaller organizations or individuals.\n",
            "Summarize the above in two sentences.\n",
            "### Response:\n",
            " \n",
            "A large language model is a type of artificial intelligence that can process and understand natural language, including speech or text. It is designed to simulate human intelligence and can perform tasks such as answering questions, generating text or speech, and even conversing with humans. Large language models are often used in applications such as chatbots, language translation software, and virtual assistants.\n",
            "There are some limitations to large language models, such as becoming very complex and expensive to build. They can also be slow in processing and responding, making them unsuitable for real-time applications."
          ]
        }
      ]
    }
  ]
}