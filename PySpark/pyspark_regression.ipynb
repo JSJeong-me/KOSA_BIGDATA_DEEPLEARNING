{
 "cells": [
  {
   "cell_type": "markdown",
   "metadata": {},
   "source": [
    "<a href='https://www.kaggle.com/fatmakursun/pyspark-ml-tutorial-for-beginners'>Kaggle 튜토리얼 출처</a>"
   ]
  },
  {
   "cell_type": "code",
   "execution_count": 1,
   "metadata": {},
   "outputs": [],
   "source": [
    "import os\n",
    "import pandas as pd\n",
    "import numpy as np\n",
    "\n",
    "# pyspark for objecy, sql\n",
    "from pyspark import SparkConf, SparkContext\n",
    "from pyspark.sql import SparkSession, SQLContext\n",
    "\n",
    "from pyspark.sql.types import *\n",
    "import pyspark.sql.functions as F\n",
    "from pyspark.sql.functions import udf, col\n",
    "\n",
    "# pyspark for ML\n",
    "from pyspark.ml.regression import LinearRegression\n",
    "from pyspark.mllib.evaluation import RegressionMetrics\n",
    "from pyspark.ml.evaluation import RegressionEvaluator\n",
    "\n",
    "from pyspark.ml.tuning import ParamGridBuilder, CrossValidator, CrossValidatorModel\n",
    "from pyspark.ml.feature import VectorAssembler, StandardScaler"
   ]
  },
  {
   "cell_type": "code",
   "execution_count": 2,
   "metadata": {},
   "outputs": [],
   "source": [
    "import seaborn as sns\n",
    "import matplotlib.pyplot as plt"
   ]
  },
  {
   "cell_type": "code",
   "execution_count": 3,
   "metadata": {},
   "outputs": [],
   "source": [
    "# Setting for visualization\n",
    "from IPython.core.interactiveshell import InteractiveShell\n",
    "InteractiveShell.ast_node_interactivity = 'all'\n",
    "\n",
    "pd.set_option('display.max_columns', 200)\n",
    "pd.set_option('display.max_colwidth', 400)\n",
    "\n",
    "from matplotlib import rcParams\n",
    "sns.set(context='notebook', style='whitegrid',\n",
    "       rc={'figure.figsize': (18, 4)})\n",
    "rcParams['figure.figsize'] = 18, 4"
   ]
  },
  {
   "cell_type": "code",
   "execution_count": 4,
   "metadata": {},
   "outputs": [],
   "source": [
    "# 노트북 재실행을 대비하기 위해 랜덤 시드 설정해놓기\n",
    "rnd_seed = 23\n",
    "np.random.seed = rnd_seed\n",
    "np.random.set_state = rnd_seed"
   ]
  },
  {
   "cell_type": "markdown",
   "metadata": {},
   "source": [
    "### Creating Spark Session"
   ]
  },
  {
   "cell_type": "code",
   "execution_count": 5,
   "metadata": {},
   "outputs": [],
   "source": [
    "spark = SparkSession.builder.master('local[2]')\\\n",
    "        .appName('Linear-Regression-California-Housing')\\\n",
    "        .getOrCreate()"
   ]
  },
  {
   "cell_type": "code",
   "execution_count": 6,
   "metadata": {},
   "outputs": [
    {
     "data": {
      "text/html": [
       "\n",
       "            <div>\n",
       "                <p><b>SparkSession - hive</b></p>\n",
       "                \n",
       "        <div>\n",
       "            <p><b>SparkContext</b></p>\n",
       "\n",
       "            <p><a href=\"http://192.168.238.1:4040\">Spark UI</a></p>\n",
       "\n",
       "            <dl>\n",
       "              <dt>Version</dt>\n",
       "                <dd><code>v3.0.3</code></dd>\n",
       "              <dt>Master</dt>\n",
       "                <dd><code>spark://DESKTOP-HAAI0JO.localdomain:7077</code></dd>\n",
       "              <dt>AppName</dt>\n",
       "                <dd><code>PySparkShell</code></dd>\n",
       "            </dl>\n",
       "        </div>\n",
       "        \n",
       "            </div>\n",
       "        "
      ],
      "text/plain": [
       "<pyspark.sql.session.SparkSession at 0x7f4bebfd2310>"
      ]
     },
     "execution_count": 6,
     "metadata": {},
     "output_type": "execute_result"
    }
   ],
   "source": [
    "spark"
   ]
  },
  {
   "cell_type": "code",
   "execution_count": 7,
   "metadata": {},
   "outputs": [
    {
     "data": {
      "text/html": [
       "\n",
       "        <div>\n",
       "            <p><b>SparkContext</b></p>\n",
       "\n",
       "            <p><a href=\"http://192.168.238.1:4040\">Spark UI</a></p>\n",
       "\n",
       "            <dl>\n",
       "              <dt>Version</dt>\n",
       "                <dd><code>v3.0.3</code></dd>\n",
       "              <dt>Master</dt>\n",
       "                <dd><code>spark://DESKTOP-HAAI0JO.localdomain:7077</code></dd>\n",
       "              <dt>AppName</dt>\n",
       "                <dd><code>PySparkShell</code></dd>\n",
       "            </dl>\n",
       "        </div>\n",
       "        "
      ],
      "text/plain": [
       "<SparkContext master=spark://DESKTOP-HAAI0JO.localdomain:7077 appName=PySparkShell>"
      ]
     },
     "execution_count": 7,
     "metadata": {},
     "output_type": "execute_result"
    }
   ],
   "source": [
    "# SparkContext 객체와 SQLContext 객체 생성\n",
    "sc = spark.sparkContext\n",
    "sc"
   ]
  },
  {
   "cell_type": "code",
   "execution_count": 8,
   "metadata": {},
   "outputs": [
    {
     "data": {
      "text/plain": [
       "<pyspark.sql.context.SQLContext at 0x7f4b923d4c10>"
      ]
     },
     "execution_count": 8,
     "metadata": {},
     "output_type": "execute_result"
    }
   ],
   "source": [
    "# SQLContext는 sparkContext를 집어넣어주자\n",
    "sqlContext = SQLContext(spark.sparkContext)\n",
    "sqlContext"
   ]
  },
  {
   "cell_type": "markdown",
   "metadata": {},
   "source": [
    "### Load file and convert it into DataFrame"
   ]
  },
  {
   "cell_type": "code",
   "execution_count": 9,
   "metadata": {},
   "outputs": [],
   "source": [
    "data_path = '/home/hadoop/prj2/CaliforniaHousing/cal_housing.data'"
   ]
  },
  {
   "cell_type": "code",
   "execution_count": 10,
   "metadata": {},
   "outputs": [
    {
     "data": {
      "text/plain": [
       "StructType(List(StructField(long,FloatType,true),StructField(lat,FloatType,true),StructField(medage,FloatType,true),StructField(totrooms,FloatType,true),StructField(totbdrms,FloatType,true),StructField(pop,FloatType,true),StructField(houshlds,FloatType,true),StructField(medinc,FloatType,true),StructField(medhv,FloatType,true)))"
      ]
     },
     "execution_count": 10,
     "metadata": {},
     "output_type": "execute_result"
    }
   ],
   "source": [
    "# data의 칼럼명을 스키마로 정의해주기\n",
    "schema_string = 'long lat medage totrooms totbdrms pop houshlds medinc medhv'\n",
    "\n",
    "fields = [StructField(field, FloatType(), True)for field in schema_string.split()]\n",
    "schema = StructType(fields)\n",
    "schema"
   ]
  },
  {
   "cell_type": "code",
   "execution_count": 11,
   "metadata": {},
   "outputs": [
    {
     "name": "stderr",
     "output_type": "stream",
     "text": [
      "                                                                                \r"
     ]
    },
    {
     "data": {
      "text/plain": [
       "[Row(long=-122.2300033569336, lat=37.880001068115234, medage=41.0, totrooms=880.0, totbdrms=129.0, pop=322.0, houshlds=126.0, medinc=8.325200080871582, medhv=452600.0),\n",
       " Row(long=-122.22000122070312, lat=37.86000061035156, medage=21.0, totrooms=7099.0, totbdrms=1106.0, pop=2401.0, houshlds=1138.0, medinc=8.301400184631348, medhv=358500.0),\n",
       " Row(long=-122.23999786376953, lat=37.849998474121094, medage=52.0, totrooms=1467.0, totbdrms=190.0, pop=496.0, houshlds=177.0, medinc=7.257400035858154, medhv=352100.0),\n",
       " Row(long=-122.25, lat=37.849998474121094, medage=52.0, totrooms=1274.0, totbdrms=235.0, pop=558.0, houshlds=219.0, medinc=5.643099784851074, medhv=341300.0),\n",
       " Row(long=-122.25, lat=37.849998474121094, medage=52.0, totrooms=1627.0, totbdrms=280.0, pop=565.0, houshlds=259.0, medinc=3.8461999893188477, medhv=342200.0)]"
      ]
     },
     "execution_count": 11,
     "metadata": {},
     "output_type": "execute_result"
    }
   ],
   "source": [
    "# 데이터파일 로드\n",
    "# cache 메소드를 이용해서 메모리에 keep해놓기\n",
    "housing_df = spark.read.csv(path=data_path, schema=schema).cache()\n",
    "\n",
    "# 상위 5개 행 미리 보기 -> 하나의 Row가 namedTuple 형태로 되어 있음..!\n",
    "housing_df.take(5)"
   ]
  },
  {
   "cell_type": "code",
   "execution_count": 12,
   "metadata": {},
   "outputs": [
    {
     "name": "stdout",
     "output_type": "stream",
     "text": [
      "+-------+-----+------+--------+--------+------+--------+------+--------+\n",
      "|   long|  lat|medage|totrooms|totbdrms|   pop|houshlds|medinc|   medhv|\n",
      "+-------+-----+------+--------+--------+------+--------+------+--------+\n",
      "|-122.23|37.88|  41.0|   880.0|   129.0| 322.0|   126.0|8.3252|452600.0|\n",
      "|-122.22|37.86|  21.0|  7099.0|  1106.0|2401.0|  1138.0|8.3014|358500.0|\n",
      "|-122.24|37.85|  52.0|  1467.0|   190.0| 496.0|   177.0|7.2574|352100.0|\n",
      "|-122.25|37.85|  52.0|  1274.0|   235.0| 558.0|   219.0|5.6431|341300.0|\n",
      "|-122.25|37.85|  52.0|  1627.0|   280.0| 565.0|   259.0|3.8462|342200.0|\n",
      "|-122.25|37.85|  52.0|   919.0|   213.0| 413.0|   193.0|4.0368|269700.0|\n",
      "+-------+-----+------+--------+--------+------+--------+------+--------+\n",
      "only showing top 6 rows\n",
      "\n"
     ]
    }
   ],
   "source": [
    "# 로드한 데이터프레임 형태 미리보기\n",
    "housing_df.show(6)"
   ]
  },
  {
   "cell_type": "code",
   "execution_count": 13,
   "metadata": {},
   "outputs": [
    {
     "name": "stdout",
     "output_type": "stream",
     "text": [
      "['long', 'lat', 'medage', 'totrooms', 'totbdrms', 'pop', 'houshlds', 'medinc', 'medhv'] \n",
      " <class 'list'>\n"
     ]
    }
   ],
   "source": [
    "# 칼럼들 보기\n",
    "print(housing_df.columns,'\\n',type(housing_df.columns))"
   ]
  },
  {
   "cell_type": "code",
   "execution_count": 14,
   "metadata": {},
   "outputs": [
    {
     "name": "stdout",
     "output_type": "stream",
     "text": [
      "root\n",
      " |-- long: float (nullable = true)\n",
      " |-- lat: float (nullable = true)\n",
      " |-- medage: float (nullable = true)\n",
      " |-- totrooms: float (nullable = true)\n",
      " |-- totbdrms: float (nullable = true)\n",
      " |-- pop: float (nullable = true)\n",
      " |-- houshlds: float (nullable = true)\n",
      " |-- medinc: float (nullable = true)\n",
      " |-- medhv: float (nullable = true)\n",
      "\n"
     ]
    }
   ],
   "source": [
    "# 데이터프레임의 schema 보기\n",
    "housing_df.printSchema()"
   ]
  },
  {
   "cell_type": "markdown",
   "metadata": {},
   "source": [
    "### Data Exploration"
   ]
  },
  {
   "cell_type": "code",
   "execution_count": 15,
   "metadata": {},
   "outputs": [
    {
     "name": "stdout",
     "output_type": "stream",
     "text": [
      "+------+------+\n",
      "|   pop|medinc|\n",
      "+------+------+\n",
      "| 322.0|8.3252|\n",
      "|2401.0|8.3014|\n",
      "| 496.0|7.2574|\n",
      "| 558.0|5.6431|\n",
      "| 565.0|3.8462|\n",
      "| 413.0|4.0368|\n",
      "|1094.0|3.6591|\n",
      "|1157.0|  3.12|\n",
      "|1206.0|2.0804|\n",
      "|1551.0|3.6912|\n",
      "| 910.0|3.2031|\n",
      "|1504.0|3.2705|\n",
      "|1098.0| 3.075|\n",
      "| 345.0|2.6736|\n",
      "|1212.0|1.9167|\n",
      "| 697.0| 2.125|\n",
      "| 793.0| 2.775|\n",
      "| 648.0|2.1202|\n",
      "| 990.0|1.9911|\n",
      "| 690.0|2.6033|\n",
      "+------+------+\n",
      "only showing top 20 rows\n",
      "\n"
     ]
    }
   ],
   "source": [
    "# 특정 칼럼값들만 추출하기 -> select메소드 이용\n",
    "housing_df.select('pop', 'medinc').show()"
   ]
  },
  {
   "cell_type": "code",
   "execution_count": 16,
   "metadata": {},
   "outputs": [
    {
     "name": "stderr",
     "output_type": "stream",
     "text": [
      "                                                                                \r"
     ]
    },
    {
     "name": "stdout",
     "output_type": "stream",
     "text": [
      "+------+-----+\n",
      "|medage|count|\n",
      "+------+-----+\n",
      "|  18.0|  570|\n",
      "|  47.0|  198|\n",
      "|   9.0|  205|\n",
      "|  39.0|  369|\n",
      "|   5.0|  244|\n",
      "+------+-----+\n",
      "only showing top 5 rows\n",
      "\n"
     ]
    }
   ],
   "source": [
    "# 그룹핑해서 집계해보기\n",
    "result_df = housing_df.groupBy('medage').count()\n",
    "result_df.show(5)"
   ]
  },
  {
   "cell_type": "code",
   "execution_count": 17,
   "metadata": {},
   "outputs": [
    {
     "name": "stderr",
     "output_type": "stream",
     "text": [
      "[Stage 10:====================================>                (139 + 23) / 200]\r"
     ]
    },
    {
     "name": "stdout",
     "output_type": "stream",
     "text": [
      "+------+-----+\n",
      "|medage|count|\n",
      "+------+-----+\n",
      "|  52.0| 1273|\n",
      "|  51.0|   48|\n",
      "|  50.0|  136|\n",
      "|  49.0|  134|\n",
      "|  48.0|  177|\n",
      "+------+-----+\n",
      "only showing top 5 rows\n",
      "\n"
     ]
    },
    {
     "name": "stderr",
     "output_type": "stream",
     "text": [
      "\r",
      "[Stage 10:===================================================>  (191 + 9) / 200]\r",
      "\r",
      "                                                                                \r"
     ]
    }
   ],
   "source": [
    "# 값 정렬 기준 설정해주고 내림차순으로 정렬\n",
    "result_df.sort('medage', ascending=False).show(5)"
   ]
  },
  {
   "cell_type": "code",
   "execution_count": 18,
   "metadata": {},
   "outputs": [
    {
     "name": "stderr",
     "output_type": "stream",
     "text": [
      "\r",
      "[Stage 12:=====================================>               (142 + 16) / 200]\r",
      "\r",
      "                                                                                \r"
     ]
    },
    {
     "data": {
      "text/plain": [
       "<AxesSubplot:xlabel='medage'>"
      ]
     },
     "execution_count": 18,
     "metadata": {},
     "output_type": "execute_result"
    },
    {
     "data": {
      "image/png": "[encoded data removed]",
      "text/plain": [
       "<Figure size 1008x432 with 1 Axes>"
      ]
     },
     "metadata": {},
     "output_type": "display_data"
    }
   ],
   "source": [
    "# Bar graph 그리기\n",
    "# toPandas() 이용\n",
    "result_df.toPandas().plot.bar(x='medage', figsize=(14, 6))"
   ]
  },
  {
   "cell_type": "markdown",
   "metadata": {},
   "source": [
    "- Summary Statistics\n",
    "    * ``describe()``메소드를 이용해 수치형 컬럼에 대한 통계량값들 데이터 프레임으로 반환 가능\n"
   ]
  },
  {
   "cell_type": "code",
   "execution_count": 19,
   "metadata": {},
   "outputs": [
    {
     "data": {
      "text/plain": [
       "DataFrame[summary: string, long: string, lat: string, medage: string, totrooms: string, totbdrms: string, pop: string, houshlds: string, medinc: string, medhv: string]"
      ]
     },
     "execution_count": 19,
     "metadata": {},
     "output_type": "execute_result"
    }
   ],
   "source": [
    "housing_df.describe()"
   ]
  },
  {
   "cell_type": "markdown",
   "metadata": {},
   "source": [
    "- F: sql에서 사용할수 있는 여러가지 함수 담겨있는 라이브러리\n",
    "    * ``F.function('column')``"
   ]
  },
  {
   "cell_type": "code",
   "execution_count": 20,
   "metadata": {},
   "outputs": [
    {
     "name": "stdout",
     "output_type": "stream",
     "text": [
      "+-------+-------+---------+--------+---------+--------+-------+-----------+\n",
      "|summary| medage| totrooms|totbdrms|      pop|houshlds| medinc|      medhv|\n",
      "+-------+-------+---------+--------+---------+--------+-------+-----------+\n",
      "|  count|20640.0|  20640.0| 20640.0|  20640.0| 20640.0|20640.0|    20640.0|\n",
      "|   mean|28.6395|2635.7631| 537.898|1425.4767|499.5397| 3.8707|206855.8169|\n",
      "| stddev|12.5856|2181.6153|421.2479|1132.4621|382.3298| 1.8998|115395.6159|\n",
      "|    min|    1.0|      2.0|     1.0|      3.0|     1.0| 0.4999|    14999.0|\n",
      "|    max|   52.0|  39320.0|  6445.0|  35682.0|  6082.0|15.0001|   500001.0|\n",
      "+-------+-------+---------+--------+---------+--------+-------+-----------+\n",
      "\n"
     ]
    }
   ],
   "source": [
    "# 반환되는 통계량 값들을 소수점 제거하거나 하는 등 커스터마이징해서 출력\n",
    "(housing_df.describe()).select('summary',\n",
    "                              F.round('medage', 4).alias('medage'),\n",
    "                              F.round('totrooms', 4).alias('totrooms'),\n",
    "                              F.round('totbdrms', 4).alias('totbdrms'),\n",
    "                              F.round('pop', 4).alias('pop'),\n",
    "                              F.round('houshlds', 4).alias('houshlds'),\n",
    "                              F.round('medinc', 4).alias('medinc'),\n",
    "                              F.round('medhv', 4).alias('medhv')).show(10)"
   ]
  },
  {
   "cell_type": "markdown",
   "metadata": {},
   "source": [
    "### Data Preprocessing"
   ]
  },
  {
   "cell_type": "markdown",
   "metadata": {},
   "source": [
    "- ``withColumn('새로운col', col('변경할col)/10000)``"
   ]
  },
  {
   "cell_type": "code",
   "execution_count": 21,
   "metadata": {},
   "outputs": [
    {
     "name": "stdout",
     "output_type": "stream",
     "text": [
      "+-------+-----+------+--------+--------+------+--------+------+-----+\n",
      "|   long|  lat|medage|totrooms|totbdrms|   pop|houshlds|medinc|medhv|\n",
      "+-------+-----+------+--------+--------+------+--------+------+-----+\n",
      "|-122.23|37.88|  41.0|   880.0|   129.0| 322.0|   126.0|8.3252|4.526|\n",
      "|-122.22|37.86|  21.0|  7099.0|  1106.0|2401.0|  1138.0|8.3014|3.585|\n",
      "|-122.24|37.85|  52.0|  1467.0|   190.0| 496.0|   177.0|7.2574|3.521|\n",
      "|-122.25|37.85|  52.0|  1274.0|   235.0| 558.0|   219.0|5.6431|3.413|\n",
      "|-122.25|37.85|  52.0|  1627.0|   280.0| 565.0|   259.0|3.8462|3.422|\n",
      "+-------+-----+------+--------+--------+------+--------+------+-----+\n",
      "only showing top 5 rows\n",
      "\n"
     ]
    }
   ],
   "source": [
    "# 변수에 연산을 취한 후 재할당\n",
    "housing_df = housing_df.withColumn('medhv', col('medhv')/100000)\n",
    "housing_df.show(5)"
   ]
  },
  {
   "cell_type": "markdown",
   "metadata": {},
   "source": [
    "### Feature Engineering"
   ]
  },
  {
   "cell_type": "markdown",
   "metadata": {},
   "source": [
    "- 이 때, ``F : sql.functions``\n",
    "- ``dataframe.withColumn('New변수명', F.round(col('기존변수')/col('기존변수2'), 2)).withColumn('New변수명2', F.round(col('기존변수3')/col('기존변수4'), 2)).withColumn....``"
   ]
  },
  {
   "cell_type": "code",
   "execution_count": 22,
   "metadata": {},
   "outputs": [
    {
     "name": "stdout",
     "output_type": "stream",
     "text": [
      "+-------+-----+------+--------+--------+------+--------+------+-----+--------+--------+----------+\n",
      "|   long|  lat|medage|totrooms|totbdrms|   pop|houshlds|medinc|medhv|rmsperhh|popperhh|bdrmsperrm|\n",
      "+-------+-----+------+--------+--------+------+--------+------+-----+--------+--------+----------+\n",
      "|-122.23|37.88|  41.0|   880.0|   129.0| 322.0|   126.0|8.3252|4.526|    6.98|    2.56|      0.15|\n",
      "|-122.22|37.86|  21.0|  7099.0|  1106.0|2401.0|  1138.0|8.3014|3.585|    6.24|    2.11|      0.16|\n",
      "|-122.24|37.85|  52.0|  1467.0|   190.0| 496.0|   177.0|7.2574|3.521|    8.29|     2.8|      0.13|\n",
      "|-122.25|37.85|  52.0|  1274.0|   235.0| 558.0|   219.0|5.6431|3.413|    5.82|    2.55|      0.18|\n",
      "|-122.25|37.85|  52.0|  1627.0|   280.0| 565.0|   259.0|3.8462|3.422|    6.28|    2.18|      0.17|\n",
      "+-------+-----+------+--------+--------+------+--------+------+-----+--------+--------+----------+\n",
      "only showing top 5 rows\n",
      "\n"
     ]
    }
   ],
   "source": [
    "# 파생변수 생성하기\n",
    "housing_df = (housing_df.withColumn('rmsperhh',\n",
    "                                   F.round(col('totrooms')/col('houshlds'), 2))\\\n",
    "                        .withColumn('popperhh',\n",
    "                                   F.round(col('pop')/col('houshlds'), 2))\\\n",
    "                        .withColumn('bdrmsperrm',\n",
    "                                   F.round(col('totbdrms')/col('totrooms'), 2)))\n",
    "housing_df.show(5)"
   ]
  },
  {
   "cell_type": "code",
   "execution_count": 23,
   "metadata": {},
   "outputs": [
    {
     "name": "stdout",
     "output_type": "stream",
     "text": [
      "+-----+--------+------+--------+------+--------+--------+----------+\n",
      "|medhv|totbdrms|   pop|houshlds|medinc|rmsperhh|popperhh|bdrmsperrm|\n",
      "+-----+--------+------+--------+------+--------+--------+----------+\n",
      "|4.526|   129.0| 322.0|   126.0|8.3252|    6.98|    2.56|      0.15|\n",
      "|3.585|  1106.0|2401.0|  1138.0|8.3014|    6.24|    2.11|      0.16|\n",
      "|3.521|   190.0| 496.0|   177.0|7.2574|    8.29|     2.8|      0.13|\n",
      "|3.413|   235.0| 558.0|   219.0|5.6431|    5.82|    2.55|      0.18|\n",
      "+-----+--------+------+--------+------+--------+--------+----------+\n",
      "only showing top 4 rows\n",
      "\n"
     ]
    }
   ],
   "source": [
    "# 사용하지 않을 변수 제외하고 필요한 변수들만 select\n",
    "housing_df = housing_df.select('medhv',\n",
    "                              'totbdrms',\n",
    "                              'pop',\n",
    "                              'houshlds',\n",
    "                              'medinc',\n",
    "                              'rmsperhh',\n",
    "                              'popperhh',\n",
    "                              'bdrmsperrm')\n",
    "housing_df.show(4)"
   ]
  },
  {
   "cell_type": "markdown",
   "metadata": {},
   "source": [
    "### Feature Extraction"
   ]
  },
  {
   "cell_type": "markdown",
   "metadata": {},
   "source": [
    "- 특정 피처들을 정규화시키기 위해서 피처들 값들을 feature vector로 바꾸어 주기 위해서 ``VectorAssembler``를 사용"
   ]
  },
  {
   "cell_type": "code",
   "execution_count": 24,
   "metadata": {},
   "outputs": [
    {
     "name": "stdout",
     "output_type": "stream",
     "text": [
      "+-----+--------+------+--------+------+--------+--------+----------+--------------------+\n",
      "|medhv|totbdrms|   pop|houshlds|medinc|rmsperhh|popperhh|bdrmsperrm|            features|\n",
      "+-----+--------+------+--------+------+--------+--------+----------+--------------------+\n",
      "|4.526|   129.0| 322.0|   126.0|8.3252|    6.98|    2.56|      0.15|[129.0,322.0,126....|\n",
      "|3.585|  1106.0|2401.0|  1138.0|8.3014|    6.24|    2.11|      0.16|[1106.0,2401.0,11...|\n",
      "|3.521|   190.0| 496.0|   177.0|7.2574|    8.29|     2.8|      0.13|[190.0,496.0,177....|\n",
      "|3.413|   235.0| 558.0|   219.0|5.6431|    5.82|    2.55|      0.18|[235.0,558.0,219....|\n",
      "|3.422|   280.0| 565.0|   259.0|3.8462|    6.28|    2.18|      0.17|[280.0,565.0,259....|\n",
      "|2.697|   213.0| 413.0|   193.0|4.0368|    4.76|    2.14|      0.23|[213.0,413.0,193....|\n",
      "|2.992|   489.0|1094.0|   514.0|3.6591|    4.93|    2.13|      0.19|[489.0,1094.0,514...|\n",
      "|2.414|   687.0|1157.0|   647.0|  3.12|     4.8|    1.79|      0.22|[687.0,1157.0,647...|\n",
      "|2.267|   665.0|1206.0|   595.0|2.0804|    4.29|    2.03|      0.26|[665.0,1206.0,595...|\n",
      "|2.611|   707.0|1551.0|   714.0|3.6912|    4.97|    2.17|       0.2|[707.0,1551.0,714...|\n",
      "+-----+--------+------+--------+------+--------+--------+----------+--------------------+\n",
      "only showing top 10 rows\n",
      "\n"
     ]
    }
   ],
   "source": [
    "featureCols = ['totbdrms', 'pop', 'houshlds', 'medinc',\n",
    "              'rmsperhh', 'popperhh', 'bdrmsperrm']\n",
    "# VectorAssembler로 feature vector로 변환\n",
    "assembler = VectorAssembler(inputCols=featureCols, outputCol='features')\n",
    "assembled_df = assembler.transform(housing_df)\n",
    "assembled_df.show(10, truncate=True)"
   ]
  },
  {
   "cell_type": "markdown",
   "metadata": {},
   "source": [
    "- Standardization\n",
    "    * ``StandardScaler(inputCol, outputCol)`` 후 ``fit``, ``transform``사용"
   ]
  },
  {
   "cell_type": "code",
   "execution_count": 25,
   "metadata": {},
   "outputs": [
    {
     "name": "stdout",
     "output_type": "stream",
     "text": [
      "+--------------------+--------------------+\n",
      "|            features|     features_scaled|\n",
      "+--------------------+--------------------+\n",
      "|[129.0,322.0,126....|[0.30623297630686...|\n",
      "|[1106.0,2401.0,11...|[2.62553233949916...|\n",
      "|[190.0,496.0,177....|[0.45104081781631...|\n",
      "|[235.0,558.0,219....|[0.55786627466754...|\n",
      "|[280.0,565.0,259....|[0.66469173151877...|\n",
      "|[213.0,413.0,193....|[0.50564049576249...|\n",
      "|[489.0,1094.0,514...|[1.16083663111672...|\n",
      "|[687.0,1157.0,647...|[1.63086864126214...|\n",
      "|[665.0,1206.0,595...|[1.57864286235709...|\n",
      "|[707.0,1551.0,714...|[1.67834662208491...|\n",
      "+--------------------+--------------------+\n",
      "only showing top 10 rows\n",
      "\n"
     ]
    }
   ],
   "source": [
    "# 위에서 만든 Feature vector인 'features' 넣기\n",
    "standardScaler = StandardScaler(inputCol='features',\n",
    "                               outputCol='features_scaled')\n",
    "# fit, transform\n",
    "scaled_df = standardScaler.fit(assembled_df).transform(assembled_df)\n",
    "\n",
    "# scaling된 피처들만 추출해보기\n",
    "scaled_df.select('features', 'features_scaled').show(10,\n",
    "                                                    truncate=True)"
   ]
  },
  {
   "cell_type": "markdown",
   "metadata": {},
   "source": [
    "### Build ML using Spark ML"
   ]
  },
  {
   "cell_type": "markdown",
   "metadata": {},
   "source": [
    "- split train, test data\n",
    "    * ``randomSplit()`` 사용"
   ]
  },
  {
   "cell_type": "code",
   "execution_count": 26,
   "metadata": {},
   "outputs": [
    {
     "name": "stdout",
     "output_type": "stream",
     "text": [
      "<class 'pyspark.sql.dataframe.DataFrame'>\n"
     ]
    },
    {
     "data": {
      "text/plain": [
       "['medhv',\n",
       " 'totbdrms',\n",
       " 'pop',\n",
       " 'houshlds',\n",
       " 'medinc',\n",
       " 'rmsperhh',\n",
       " 'popperhh',\n",
       " 'bdrmsperrm',\n",
       " 'features',\n",
       " 'features_scaled']"
      ]
     },
     "execution_count": 26,
     "metadata": {},
     "output_type": "execute_result"
    }
   ],
   "source": [
    "train_data, test_data = scaled_df.randomSplit([0.8, 0.2], seed=rnd_seed)\n",
    "print(type(train_data))\n",
    "train_data.columns"
   ]
  },
  {
   "cell_type": "markdown",
   "metadata": {},
   "source": [
    "#### Elastic Net regression 사용\n",
    "- ``elasticNetParam``: ``L1의 alpha``와 동일. 그래서 이 값이 1이면 Lasso와 동일, 만약 0이면 Ridged와 동일\n",
    "    \n",
    "- ``regParam``: L1, L2을 얼마나 규제할지 계수값\n",
    "- ``featuresCol``: 독립변수\n",
    "- ``labelCol``: 종속변수\n",
    "- ``predictionCol``: 예측값으로 생성할 변수"
   ]
  },
  {
   "cell_type": "code",
   "execution_count": 27,
   "metadata": {},
   "outputs": [
    {
     "name": "stderr",
     "output_type": "stream",
     "text": [
      "22/03/31 21:01:35 WARN BLAS: Failed to load implementation from: com.github.fommil.netlib.NativeSystemBLAS\n",
      "22/03/31 21:01:35 WARN BLAS: Failed to load implementation from: com.github.fommil.netlib.NativeRefBLAS\n",
      "                                                                                \r"
     ]
    }
   ],
   "source": [
    "# Elastic Net 모델 정의\n",
    "lr = LinearRegression(featuresCol='features_scaled',\n",
    "                     labelCol='medhv',\n",
    "                     predictionCol='predmedhv',\n",
    "                     maxIter=10,\n",
    "                     regParam=0.3,\n",
    "                     elasticNetParam=0.8,\n",
    "                     standardization=False)\n",
    "# 모델 학습\n",
    "linearModel = lr.fit(train_data)"
   ]
  },
  {
   "cell_type": "markdown",
   "metadata": {},
   "source": [
    "### Evaluating Model"
   ]
  },
  {
   "cell_type": "markdown",
   "metadata": {},
   "source": [
    "- 예측 시에는 ``model.transform(data)``사용!"
   ]
  },
  {
   "cell_type": "code",
   "execution_count": 28,
   "metadata": {},
   "outputs": [
    {
     "data": {
      "text/plain": [
       "DenseVector([0.0, 0.0, 0.0, 0.5262, 0.0, 0.0, 0.0])"
      ]
     },
     "execution_count": 28,
     "metadata": {},
     "output_type": "execute_result"
    }
   ],
   "source": [
    "# Elastic Net의 feature별 회귀계수 값들 살펴보기\n",
    "linearModel.coefficients"
   ]
  },
  {
   "cell_type": "code",
   "execution_count": 29,
   "metadata": {},
   "outputs": [
    {
     "name": "stdout",
     "output_type": "stream",
     "text": [
      "['totbdrms', 'pop', 'houshlds', 'medinc', 'rmsperhh', 'popperhh', 'bdrmsperrm'] <class 'list'>\n"
     ]
    }
   ],
   "source": [
    "print(featureCols, type(featureCols))"
   ]
  },
  {
   "cell_type": "code",
   "execution_count": 30,
   "metadata": {},
   "outputs": [
    {
     "data": {
      "text/plain": [
       "1.0013833516596085"
      ]
     },
     "execution_count": 30,
     "metadata": {},
     "output_type": "execute_result"
    }
   ],
   "source": [
    "# Vertical Intercept(y절편) 살펴보기\n",
    "linearModel.intercept"
   ]
  },
  {
   "cell_type": "code",
   "execution_count": 31,
   "metadata": {},
   "outputs": [
    {
     "data": {
      "text/html": [
       "<div>\n",
       "<style scoped>\n",
       "    .dataframe tbody tr th:only-of-type {\n",
       "        vertical-align: middle;\n",
       "    }\n",
       "\n",
       "    .dataframe tbody tr th {\n",
       "        vertical-align: top;\n",
       "    }\n",
       "\n",
       "    .dataframe thead th {\n",
       "        text-align: right;\n",
       "    }\n",
       "</style>\n",
       "<table border=\"1\" class=\"dataframe\">\n",
       "  <thead>\n",
       "    <tr style=\"text-align: right;\">\n",
       "      <th></th>\n",
       "      <th>Feature</th>\n",
       "      <th>Co-efficients</th>\n",
       "    </tr>\n",
       "  </thead>\n",
       "  <tbody>\n",
       "    <tr>\n",
       "      <th>0</th>\n",
       "      <td>Intercept</td>\n",
       "      <td>1.001383</td>\n",
       "    </tr>\n",
       "    <tr>\n",
       "      <th>1</th>\n",
       "      <td>totbdrms</td>\n",
       "      <td>0.000000</td>\n",
       "    </tr>\n",
       "    <tr>\n",
       "      <th>2</th>\n",
       "      <td>pop</td>\n",
       "      <td>0.000000</td>\n",
       "    </tr>\n",
       "    <tr>\n",
       "      <th>3</th>\n",
       "      <td>houshlds</td>\n",
       "      <td>0.000000</td>\n",
       "    </tr>\n",
       "    <tr>\n",
       "      <th>4</th>\n",
       "      <td>medinc</td>\n",
       "      <td>0.526157</td>\n",
       "    </tr>\n",
       "    <tr>\n",
       "      <th>5</th>\n",
       "      <td>rmsperhh</td>\n",
       "      <td>0.000000</td>\n",
       "    </tr>\n",
       "    <tr>\n",
       "      <th>6</th>\n",
       "      <td>popperhh</td>\n",
       "      <td>0.000000</td>\n",
       "    </tr>\n",
       "    <tr>\n",
       "      <th>7</th>\n",
       "      <td>bdrmsperrm</td>\n",
       "      <td>0.000000</td>\n",
       "    </tr>\n",
       "  </tbody>\n",
       "</table>\n",
       "</div>"
      ],
      "text/plain": [
       "      Feature  Co-efficients\n",
       "0   Intercept       1.001383\n",
       "1    totbdrms       0.000000\n",
       "2         pop       0.000000\n",
       "3    houshlds       0.000000\n",
       "4      medinc       0.526157\n",
       "5    rmsperhh       0.000000\n",
       "6    popperhh       0.000000\n",
       "7  bdrmsperrm       0.000000"
      ]
     },
     "execution_count": 31,
     "metadata": {},
     "output_type": "execute_result"
    }
   ],
   "source": [
    "# 피처별로 회귀계수값과 절편값 pandas의 데이터프레임으로 만들기\n",
    "coeff_df = pd.DataFrame({'Feature': ['Intercept'] + featureCols,\n",
    "                        'Co-efficients': np.insert(linearModel.coefficients,\n",
    "                                                  0, linearModel.intercept)})\n",
    "coeff_df"
   ]
  },
  {
   "cell_type": "markdown",
   "metadata": {},
   "source": [
    "#### Generating Predictions"
   ]
  },
  {
   "cell_type": "code",
   "execution_count": 32,
   "metadata": {},
   "outputs": [
    {
     "name": "stdout",
     "output_type": "stream",
     "text": [
      "<class 'pyspark.sql.dataframe.DataFrame'>\n"
     ]
    }
   ],
   "source": [
    "# transoform 사용하면 모델 정의할 때 설정한 \"예측 값 변수\"를 새로 만들어 생성한 데이터프레임 반환\n",
    "predictions = linearModel.transform(test_data)\n",
    "print(type(predictions))"
   ]
  },
  {
   "cell_type": "code",
   "execution_count": 33,
   "metadata": {},
   "outputs": [
    {
     "name": "stdout",
     "output_type": "stream",
     "text": [
      "+------------------+-------+\n",
      "|         predmedhv|  medhv|\n",
      "+------------------+-------+\n",
      "|  1.14982901467337|0.14999|\n",
      "|1.3037582901805782|  0.225|\n",
      "| 1.752972574315186|  0.225|\n",
      "|1.6094289295308724|  0.269|\n",
      "|1.5956645319495768|  0.344|\n",
      "|1.2917940087238426|  0.367|\n",
      "|1.8668547795751218|  0.375|\n",
      "| 1.369423339785637|  0.394|\n",
      "|1.5305533439120043|  0.398|\n",
      "|1.5715143715849273|  0.409|\n",
      "|1.3261913014043998|  0.417|\n",
      "| 1.229923204690587|  0.425|\n",
      "|1.4841640700933143|  0.425|\n",
      "|1.3510338217435218|   0.43|\n",
      "|1.2619110212709588|  0.436|\n",
      "|1.3350814464678744|   0.44|\n",
      "|1.4832778453641755|   0.44|\n",
      "|1.4337313361080328|  0.444|\n",
      "|1.3691187093204966|  0.445|\n",
      "|  1.47521855868216|  0.446|\n",
      "+------------------+-------+\n",
      "only showing top 20 rows\n",
      "\n"
     ]
    }
   ],
   "source": [
    "# predictions 데이터프레임에서 y값과 예측값만 추출해 비교\n",
    "pred_labels = predictions.select('predmedhv', 'medhv')\n",
    "pred_labels.show()"
   ]
  },
  {
   "cell_type": "markdown",
   "metadata": {},
   "source": [
    "#### Get evaluation using metric\n",
    "\n",
    "- ``LinearRegressionModel.summary`` 이용하기\n",
    "    * ``rootMeanSquaredError``,``meanAbsoluteError``,``r2`` 등 반환 가능"
   ]
  },
  {
   "cell_type": "code",
   "execution_count": 34,
   "metadata": {},
   "outputs": [
    {
     "name": "stdout",
     "output_type": "stream",
     "text": [
      "RMSE:0.8819852045268861\n",
      "MAE: 0.6782895319917991\n",
      "R2 score: 0.4180854895364573\n"
     ]
    }
   ],
   "source": [
    "print(f\"RMSE:{linearModel.summary.rootMeanSquaredError}\")\n",
    "print(f\"MAE: {linearModel.summary.meanAbsoluteError}\")\n",
    "print(f\"R2 score: {linearModel.summary.r2}\")"
   ]
  },
  {
   "cell_type": "markdown",
   "metadata": {},
   "source": [
    "#### RegressionEvaluator\n",
    "\n",
    "- ``RegreesionEvaluator(predictionCol, labelCol, metricName)``\n",
    "    * ``predictionCol``: 예측값 변수\n",
    "    * ``labelCol``: 실제 y값 변수\n",
    "    * ``metricName``: metric 이름\n",
    "    \n",
    "- ``evaluate(예측값)`` 넣어주기"
   ]
  },
  {
   "cell_type": "code",
   "execution_count": 35,
   "metadata": {},
   "outputs": [
    {
     "name": "stdout",
     "output_type": "stream",
     "text": [
      "RMSE: 0.8677342923034236\n"
     ]
    }
   ],
   "source": [
    "evaluator = RegressionEvaluator(predictionCol='predmedhv',\n",
    "                               labelCol='medhv',\n",
    "                               metricName='rmse')\n",
    "print(f\"RMSE: {evaluator.evaluate(pred_labels)}\")"
   ]
  },
  {
   "cell_type": "code",
   "execution_count": 36,
   "metadata": {},
   "outputs": [
    {
     "name": "stdout",
     "output_type": "stream",
     "text": [
      "MAE: 0.6736097745764633\n"
     ]
    }
   ],
   "source": [
    "evaluator = RegressionEvaluator(predictionCol='predmedhv',\n",
    "                               labelCol='medhv',\n",
    "                               metricName='mae')\n",
    "print(f\"MAE: {evaluator.evaluate(pred_labels)}\")"
   ]
  },
  {
   "cell_type": "code",
   "execution_count": 37,
   "metadata": {},
   "outputs": [
    {
     "name": "stdout",
     "output_type": "stream",
     "text": [
      "R2 score: 0.42517112885139363\n"
     ]
    }
   ],
   "source": [
    "evaluator = RegressionEvaluator(predictionCol='predmedhv',\n",
    "                               labelCol='medhv',\n",
    "                               metricName='r2')\n",
    "print(f\"R2 score: {evaluator.evaluate(pred_labels)}\")"
   ]
  },
  {
   "cell_type": "markdown",
   "metadata": {},
   "source": [
    "#### RegressionMetrics"
   ]
  },
  {
   "cell_type": "code",
   "execution_count": 38,
   "metadata": {},
   "outputs": [
    {
     "name": "stderr",
     "output_type": "stream",
     "text": [
      "                                                                                \r"
     ]
    }
   ],
   "source": [
    "# 예측값인 pred_labels를 RDD 자료구조로 변환하고 넣어야 함\n",
    "metrics = RegressionMetrics(pred_labels.rdd)"
   ]
  },
  {
   "cell_type": "code",
   "execution_count": 39,
   "metadata": {},
   "outputs": [
    {
     "name": "stdout",
     "output_type": "stream",
     "text": [
      "RMSE: 0.8677342923034236\n",
      "MAE: 0.6736097745764633\n",
      "R2 score: 0.42517112885139363\n"
     ]
    }
   ],
   "source": [
    "print(\"RMSE:\", metrics.rootMeanSquaredError)\n",
    "print(\"MAE:\", metrics.meanAbsoluteError)\n",
    "print(\"R2 score:\", metrics.r2)"
   ]
  },
  {
   "cell_type": "code",
   "execution_count": 40,
   "metadata": {},
   "outputs": [],
   "source": [
    "# 마지막에 운용하던 Pyspark 정지시키기!!\n",
    "spark.stop()"
   ]
  },
  {
   "cell_type": "code",
   "execution_count": null,
   "metadata": {},
   "outputs": [],
   "source": []
  }
 ],
 "metadata": {
  "hide_input": false,
  "kernelspec": {
   "display_name": "Python 3 (ipykernel)",
   "language": "python",
   "name": "python3"
  },
  "language_info": {
   "codemirror_mode": {
    "name": "ipython",
    "version": 3
   },
   "file_extension": ".py",
   "mimetype": "text/x-python",
   "name": "python",
   "nbconvert_exporter": "python",
   "pygments_lexer": "ipython3",
   "version": "3.9.2"
  },
  "toc": {
   "base_numbering": 1,
   "nav_menu": {},
   "number_sections": true,
   "sideBar": true,
   "skip_h1_title": false,
   "title_cell": "Table of Contents",
   "title_sidebar": "Contents",
   "toc_cell": false,
   "toc_position": {},
   "toc_section_display": true,
   "toc_window_display": false
  },
  "varInspector": {
   "cols": {
    "lenName": 16,
    "lenType": 16,
    "lenVar": 40
   },
   "kernels_config": {
    "python": {
     "delete_cmd_postfix": "",
     "delete_cmd_prefix": "del ",
     "library": "var_list.py",
     "varRefreshCmd": "print(var_dic_list())"
    },
    "r": {
     "delete_cmd_postfix": ") ",
     "delete_cmd_prefix": "rm(",
     "library": "var_list.r",
     "varRefreshCmd": "cat(var_dic_list()) "
    }
   },
   "types_to_exclude": [
    "module",
    "function",
    "builtin_function_or_method",
    "instance",
    "_Feature"
   ],
   "window_display": false
  }
 },
 "nbformat": 4,
 "nbformat_minor": 4
}
