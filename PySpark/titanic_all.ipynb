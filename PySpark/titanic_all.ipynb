{
 "cells": [
  {
   "cell_type": "code",
   "execution_count": null,
   "id": "945f9c99",
   "metadata": {},
   "outputs": [],
   "source": [
    "import pandas as pd\n",
    "import numpy as np\n",
    "import os\n",
    "import matplotlib.pyplot as plt\n",
    "import seaborn as sns\n",
    "plt.rc('font', family='AppleGothic')\n",
    "plt.rcParams['axes.unicode_minus'] = False\n",
    "# Pyspark - SQL\n",
    "from pyspark.sql import SparkSession\n",
    "from pyspark.sql import SQLContext\n",
    "from pyspark.sql.functions import mean, col, split, regexp_extract, when, lit\n",
    "\n",
    "# Pyspark - ML\n",
    "from pyspark.ml import Pipeline\n",
    "from pyspark.ml.feature import StringIndexer, VectorAssembler\n",
    "from pyspark.ml.evaluation import MulticlassClassificationEvaluator\n",
    "from pyspark.ml.feature import QuantileDiscretizer\n",
    "\n",
    "# Spark의 첫 시작인 SparkSession을 만들어주자!\n",
    "spark = SparkSession.builder\\\n",
    "        .appName('Play with pypsark ML on Titanic Data')\\\n",
    "        .getOrCreate()\n",
    "# 데이터 로드\n",
    "df = spark.read.csv('/home/hadoop/prj2/titanic.csv', header=True, inferSchema=True)\n",
    "# toPandas()를 이용해 판다스에서 제공하는 데이터프레임 형태로 출력\n",
    "df.limit(3).toPandas()"
   ]
  },
  {
   "cell_type": "code",
   "execution_count": null,
   "id": "549f7c5e",
   "metadata": {},
   "outputs": [],
   "source": [
    "df.head(3)"
   ]
  },
  {
   "cell_type": "code",
   "execution_count": null,
   "id": "c75977bb",
   "metadata": {},
   "outputs": [],
   "source": [
    "# Pandas 데이터프레임 형태로 우선 변환!\n",
    "pandas_df = df.toPandas()\n",
    "print(\"pandas_df 타입:\", type(pandas_df))\n",
    "\n",
    "# Seaborn 사용해보기\n",
    "plt.figure(figsize=(10, 5))\n",
    "plt.title(\"타이타닉 탑승객의 Age KDE 분포\")\n",
    "sns.distplot(pandas_df['Age'])\n",
    "plt.show()"
   ]
  },
  {
   "cell_type": "code",
   "execution_count": null,
   "id": "1390ad05",
   "metadata": {},
   "outputs": [],
   "source": [
    "from pyspark.sql.functions import isnan, count\n",
    "df.select([count(when(isnan(c) | col(c).isNull(), c)).alias(c) for c in df.columns])\\\n",
    "  .show()"
   ]
  },
  {
   "cell_type": "code",
   "execution_count": null,
   "id": "c667a810",
   "metadata": {},
   "outputs": [],
   "source": []
  }
 ],
 "metadata": {
  "kernelspec": {
   "display_name": "Python 3 (ipykernel)",
   "language": "python",
   "name": "python3"
  },
  "language_info": {
   "codemirror_mode": {
    "name": "ipython",
    "version": 3
   },
   "file_extension": ".py",
   "mimetype": "text/x-python",
   "name": "python",
   "nbconvert_exporter": "python",
   "pygments_lexer": "ipython3",
   "version": "3.9.2"
  }
 },
 "nbformat": 4,
 "nbformat_minor": 5
}
