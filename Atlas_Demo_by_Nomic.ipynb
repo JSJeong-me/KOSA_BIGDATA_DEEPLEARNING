{
  "nbformat": 4,
  "nbformat_minor": 0,
  "metadata": {
    "colab": {
      "provenance": [],
      "include_colab_link": true
    },
    "kernelspec": {
      "name": "python3",
      "display_name": "Python 3"
    },
    "language_info": {
      "name": "python"
    }
  },
  "cells": [
    {
      "cell_type": "markdown",
      "metadata": {
        "id": "view-in-github",
        "colab_type": "text"
      },
      "source": [
        "<a href=\"https://colab.research.google.com/github/JSJeong-me/KOSA_BIGDATA_DEEPLEARNING/blob/main/Atlas_Demo_by_Nomic.ipynb\" target=\"_parent\"><img src=\"https://colab.research.google.com/assets/colab-badge.svg\" alt=\"Open In Colab\"/></a>"
      ]
    },
    {
      "cell_type": "markdown",
      "source": [
        "**Using Atlas to Visualize a Dataset of Text**\n",
        "\n",
        "See [docs.nomic.ai](https://docs.nomic.ai) for documentation."
      ],
      "metadata": {
        "id": "DU0NasCBFHI0"
      }
    },
    {
      "cell_type": "code",
      "execution_count": null,
      "metadata": {
        "id": "bV3EP-aJC53E"
      },
      "outputs": [],
      "source": [
        "!pip install --upgrade nomic"
      ]
    },
    {
      "cell_type": "code",
      "source": [
        "import nomic\n",
        "from nomic import atlas\n",
        "nomic.login('7xDPkYXSYDc1_ErdTPIcoAR9RNd8YDlkS3nVNXcVoIMZ6') #api key to a limited demo account. Make your own account at atlas.nomic.ai"
      ],
      "metadata": {
        "id": "8R8Nj8O5EDJg"
      },
      "execution_count": null,
      "outputs": []
    },
    {
      "cell_type": "code",
      "source": [
        "#A map of random embeddings\n",
        "import numpy as np\n",
        "\n",
        "num_embeddings = 10000\n",
        "embeddings = np.random.rand(num_embeddings, 256)\n",
        "\n",
        "project = atlas.map_embeddings(embeddings=embeddings)\n",
        "print(project.maps)"
      ],
      "metadata": {
        "id": "wJk2snwBEJYu"
      },
      "execution_count": null,
      "outputs": []
    },
    {
      "cell_type": "code",
      "source": [
        "# run this cell to interact with your map in\n",
        "project.maps[0]"
      ],
      "metadata": {
        "colab": {
          "base_uri": "https://localhost:8080/",
          "height": 675
        },
        "id": "odSeviEEF20_",
        "outputId": "0f66088f-87a3-4801-d4d8-5f4fc103ad14"
      },
      "execution_count": null,
      "outputs": [
        {
          "output_type": "execute_result",
          "data": {
            "text/plain": [
              "charming-shaw: https://atlas.nomic.ai/map/e2d9e8ad-e721-4a34-a62a-e8135cd53ace/f48b1db3-785d-483d-aac2-fff048dcf2fb"
            ],
            "text/html": [
              "\n",
              "            <h3>Project: charming-shaw</h3>\n",
              "            <script>\n",
              "            destroy = function() {\n",
              "                document.getElementById(\"iframef48b1db3-785d-483d-aac2-fff048dcf2fb\").remove()\n",
              "            }\n",
              "        </script>\n",
              "\n",
              "        <h4>Projection ID: f48b1db3-785d-483d-aac2-fff048dcf2fb</h4>\n",
              "        <div class=\"actions\">\n",
              "            <div id=\"hide\" class=\"action\" onclick=\"destroy()\">Hide embedded project</div>\n",
              "            <div class=\"action\" id=\"out\">\n",
              "                <a href=\"https://atlas.nomic.ai/map/e2d9e8ad-e721-4a34-a62a-e8135cd53ace/f48b1db3-785d-483d-aac2-fff048dcf2fb\" target=\"_blank\">Explore on atlas.nomic.ai</a>\n",
              "            </div>\n",
              "        </div>\n",
              "        \n",
              "        <iframe class=\"iframe\" id=\"iframef48b1db3-785d-483d-aac2-fff048dcf2fb\" allow=\"clipboard-read; clipboard-write\" src=\"https://atlas.nomic.ai/map/e2d9e8ad-e721-4a34-a62a-e8135cd53ace/f48b1db3-785d-483d-aac2-fff048dcf2fb\">\n",
              "        </iframe>\n",
              "\n",
              "        <style>\n",
              "            .iframe {\n",
              "                /* vh can be **very** large in vscode ipynb. */\n",
              "                height: min(75vh, 66vw);\n",
              "                width: 100%;\n",
              "            }\n",
              "        </style>\n",
              "        \n",
              "        <style>\n",
              "            .actions {\n",
              "              display: block;\n",
              "            }\n",
              "            .action {\n",
              "              min-height: 18px;\n",
              "              margin: 5px;\n",
              "              transition: all 500ms ease-in-out;\n",
              "            }\n",
              "            .action:hover {\n",
              "              cursor: pointer;\n",
              "            }\n",
              "            #hide:hover::after {\n",
              "                content: \" X\";\n",
              "            }\n",
              "            #out:hover::after {\n",
              "                content: \"\";\n",
              "            }\n",
              "        </style>\n",
              "        \n",
              "            "
            ]
          },
          "metadata": {},
          "execution_count": 12
        }
      ]
    },
    {
      "cell_type": "markdown",
      "source": [
        "**Now a make a map of a news dataset**\n",
        "\n",
        "This will take roughly 5 minutes to complete."
      ],
      "metadata": {
        "id": "jz8gLsfeG5Vf"
      }
    },
    {
      "cell_type": "code",
      "source": [
        "!pip install datasets\n",
        "from datasets import load_dataset\n",
        "\n",
        "dataset = load_dataset('ag_news')['train']\n",
        "\n",
        "max_documents = 10000\n",
        "subset_idxs = np.random.randint(len(dataset), size=max_documents).tolist()\n",
        "documents = [dataset[i] for i in subset_idxs]\n",
        "for i in range(max_documents):\n",
        "  documents[i]['id'] = i\n",
        "\n",
        "project = atlas.map_text(data=documents,\n",
        "                         id_field='id',\n",
        "                          indexed_field='text',\n",
        "                          description='News 10k Example.'\n",
        "                          )"
      ],
      "metadata": {
        "id": "jYOVXTzxF7_n",
        "outputId": "567df98e-d94d-4b03-96af-a043738a1bd1",
        "colab": {
          "base_uri": "https://localhost:8080/",
          "height": 1000,
          "referenced_widgets": [
            "27ba25289d754086992e07831f694868",
            "a06158bd2ac2421eb2a42df3894c89d4",
            "8fde6558f049444a8f98479a422ff118",
            "d177206a59744488b369bde09874ee3f",
            "aea3c231ceba4a069bf5ce8f1d0fb360",
            "1220cb263cea4768809e9035e1463ba9",
            "921d2673bff24c83b0eb010119a60777",
            "58f22b494c69401bacff74e4c6ea436e"
          ]
        }
      },
      "execution_count": 5,
      "outputs": [
        {
          "metadata": {
            "tags": null
          },
          "name": "stdout",
          "output_type": "stream",
          "text": [
            "Looking in indexes: https://pypi.org/simple, https://us-python.pkg.dev/colab-wheels/public/simple/\n",
            "Collecting datasets\n",
            "  Downloading datasets-2.13.1-py3-none-any.whl (486 kB)\n",
            "\u001b[2K     \u001b[90m━━━━━━━━━━━━━━━━━━━━━━━━━━━━━━━━━━━━━━━\u001b[0m \u001b[32m486.2/486.2 kB\u001b[0m \u001b[31m9.6 MB/s\u001b[0m eta \u001b[36m0:00:00\u001b[0m\n",
            "\u001b[?25hRequirement already satisfied: numpy>=1.17 in /usr/local/lib/python3.10/dist-packages (from datasets) (1.22.4)\n",
            "Requirement already satisfied: pyarrow>=8.0.0 in /usr/local/lib/python3.10/dist-packages (from datasets) (9.0.0)\n",
            "Collecting dill<0.3.7,>=0.3.0 (from datasets)\n",
            "  Downloading dill-0.3.6-py3-none-any.whl (110 kB)\n",
            "\u001b[2K     \u001b[90m━━━━━━━━━━━━━━━━━━━━━━━━━━━━━━━━━━━━━━━\u001b[0m \u001b[32m110.5/110.5 kB\u001b[0m \u001b[31m7.8 MB/s\u001b[0m eta \u001b[36m0:00:00\u001b[0m\n",
            "\u001b[?25hRequirement already satisfied: pandas in /usr/local/lib/python3.10/dist-packages (from datasets) (1.5.3)\n",
            "Requirement already satisfied: requests>=2.19.0 in /usr/local/lib/python3.10/dist-packages (from datasets) (2.27.1)\n",
            "Requirement already satisfied: tqdm>=4.62.1 in /usr/local/lib/python3.10/dist-packages (from datasets) (4.65.0)\n",
            "Collecting xxhash (from datasets)\n",
            "  Downloading xxhash-3.2.0-cp310-cp310-manylinux_2_17_x86_64.manylinux2014_x86_64.whl (212 kB)\n",
            "\u001b[2K     \u001b[90m━━━━━━━━━━━━━━━━━━━━━━━━━━━━━━━━━━━━━━\u001b[0m \u001b[32m212.5/212.5 kB\u001b[0m \u001b[31m12.0 MB/s\u001b[0m eta \u001b[36m0:00:00\u001b[0m\n",
            "\u001b[?25hCollecting multiprocess (from datasets)\n",
            "  Downloading multiprocess-0.70.14-py310-none-any.whl (134 kB)\n",
            "\u001b[2K     \u001b[90m━━━━━━━━━━━━━━━━━━━━━━━━━━━━━━━━━━━━━━\u001b[0m \u001b[32m134.3/134.3 kB\u001b[0m \u001b[31m11.9 MB/s\u001b[0m eta \u001b[36m0:00:00\u001b[0m\n",
            "\u001b[?25hRequirement already satisfied: fsspec[http]>=2021.11.1 in /usr/local/lib/python3.10/dist-packages (from datasets) (2023.6.0)\n",
            "Requirement already satisfied: aiohttp in /usr/local/lib/python3.10/dist-packages (from datasets) (3.8.4)\n",
            "Collecting huggingface-hub<1.0.0,>=0.11.0 (from datasets)\n",
            "  Downloading huggingface_hub-0.15.1-py3-none-any.whl (236 kB)\n",
            "\u001b[2K     \u001b[90m━━━━━━━━━━━━━━━━━━━━━━━━━━━━━━━━━━━━━━\u001b[0m \u001b[32m236.8/236.8 kB\u001b[0m \u001b[31m20.2 MB/s\u001b[0m eta \u001b[36m0:00:00\u001b[0m\n",
            "\u001b[?25hRequirement already satisfied: packaging in /usr/local/lib/python3.10/dist-packages (from datasets) (23.1)\n",
            "Requirement already satisfied: pyyaml>=5.1 in /usr/local/lib/python3.10/dist-packages (from datasets) (6.0)\n",
            "Requirement already satisfied: attrs>=17.3.0 in /usr/local/lib/python3.10/dist-packages (from aiohttp->datasets) (23.1.0)\n",
            "Requirement already satisfied: charset-normalizer<4.0,>=2.0 in /usr/local/lib/python3.10/dist-packages (from aiohttp->datasets) (2.0.12)\n",
            "Requirement already satisfied: multidict<7.0,>=4.5 in /usr/local/lib/python3.10/dist-packages (from aiohttp->datasets) (6.0.4)\n",
            "Requirement already satisfied: async-timeout<5.0,>=4.0.0a3 in /usr/local/lib/python3.10/dist-packages (from aiohttp->datasets) (4.0.2)\n",
            "Requirement already satisfied: yarl<2.0,>=1.0 in /usr/local/lib/python3.10/dist-packages (from aiohttp->datasets) (1.9.2)\n",
            "Requirement already satisfied: frozenlist>=1.1.1 in /usr/local/lib/python3.10/dist-packages (from aiohttp->datasets) (1.3.3)\n",
            "Requirement already satisfied: aiosignal>=1.1.2 in /usr/local/lib/python3.10/dist-packages (from aiohttp->datasets) (1.3.1)\n",
            "Requirement already satisfied: filelock in /usr/local/lib/python3.10/dist-packages (from huggingface-hub<1.0.0,>=0.11.0->datasets) (3.12.2)\n",
            "Requirement already satisfied: typing-extensions>=3.7.4.3 in /usr/local/lib/python3.10/dist-packages (from huggingface-hub<1.0.0,>=0.11.0->datasets) (4.6.3)\n",
            "Requirement already satisfied: urllib3<1.27,>=1.21.1 in /usr/local/lib/python3.10/dist-packages (from requests>=2.19.0->datasets) (1.26.16)\n",
            "Requirement already satisfied: certifi>=2017.4.17 in /usr/local/lib/python3.10/dist-packages (from requests>=2.19.0->datasets) (2023.5.7)\n",
            "Requirement already satisfied: idna<4,>=2.5 in /usr/local/lib/python3.10/dist-packages (from requests>=2.19.0->datasets) (3.4)\n",
            "Requirement already satisfied: python-dateutil>=2.8.1 in /usr/local/lib/python3.10/dist-packages (from pandas->datasets) (2.8.2)\n",
            "Requirement already satisfied: pytz>=2020.1 in /usr/local/lib/python3.10/dist-packages (from pandas->datasets) (2022.7.1)\n",
            "Requirement already satisfied: six>=1.5 in /usr/local/lib/python3.10/dist-packages (from python-dateutil>=2.8.1->pandas->datasets) (1.16.0)\n",
            "Installing collected packages: xxhash, dill, multiprocess, huggingface-hub, datasets\n",
            "Successfully installed datasets-2.13.1 dill-0.3.6 huggingface-hub-0.15.1 multiprocess-0.70.14 xxhash-3.2.0\n"
          ]
        },
        {
          "data": {
            "application/vnd.jupyter.widget-view+json": {
              "model_id": "27ba25289d754086992e07831f694868",
              "version_major": 2,
              "version_minor": 0
            },
            "text/plain": [
              "Downloading builder script: 0.00B [00:00, ?B/s]"
            ]
          },
          "metadata": {},
          "output_type": "display_data"
        },
        {
          "data": {
            "application/vnd.jupyter.widget-view+json": {
              "model_id": "a06158bd2ac2421eb2a42df3894c89d4",
              "version_major": 2,
              "version_minor": 0
            },
            "text/plain": [
              "Downloading metadata: 0.00B [00:00, ?B/s]"
            ]
          },
          "metadata": {},
          "output_type": "display_data"
        },
        {
          "data": {
            "application/vnd.jupyter.widget-view+json": {
              "model_id": "8fde6558f049444a8f98479a422ff118",
              "version_major": 2,
              "version_minor": 0
            },
            "text/plain": [
              "Downloading readme: 0.00B [00:00, ?B/s]"
            ]
          },
          "metadata": {},
          "output_type": "display_data"
        },
        {
          "metadata": {
            "tags": null
          },
          "name": "stdout",
          "output_type": "stream",
          "text": [
            "Downloading and preparing dataset ag_news/default to /root/.cache/huggingface/datasets/ag_news/default/0.0.0/bc2bcb40336ace1a0374767fc29bb0296cdaf8a6da7298436239c54d79180548...\n"
          ]
        },
        {
          "data": {
            "application/vnd.jupyter.widget-view+json": {
              "model_id": "d177206a59744488b369bde09874ee3f",
              "version_major": 2,
              "version_minor": 0
            },
            "text/plain": [
              "Downloading data:   0%|          | 0.00/11.0M [00:00<?, ?B/s]"
            ]
          },
          "metadata": {},
          "output_type": "display_data"
        },
        {
          "data": {
            "application/vnd.jupyter.widget-view+json": {
              "model_id": "aea3c231ceba4a069bf5ce8f1d0fb360",
              "version_major": 2,
              "version_minor": 0
            },
            "text/plain": [
              "Downloading data:   0%|          | 0.00/751k [00:00<?, ?B/s]"
            ]
          },
          "metadata": {},
          "output_type": "display_data"
        },
        {
          "data": {
            "application/vnd.jupyter.widget-view+json": {
              "model_id": "1220cb263cea4768809e9035e1463ba9",
              "version_major": 2,
              "version_minor": 0
            },
            "text/plain": [
              "Generating train split:   0%|          | 0/120000 [00:00<?, ? examples/s]"
            ]
          },
          "metadata": {},
          "output_type": "display_data"
        },
        {
          "data": {
            "application/vnd.jupyter.widget-view+json": {
              "model_id": "921d2673bff24c83b0eb010119a60777",
              "version_major": 2,
              "version_minor": 0
            },
            "text/plain": [
              "Generating test split:   0%|          | 0/7600 [00:00<?, ? examples/s]"
            ]
          },
          "metadata": {},
          "output_type": "display_data"
        },
        {
          "metadata": {
            "tags": null
          },
          "name": "stdout",
          "output_type": "stream",
          "text": [
            "Dataset ag_news downloaded and prepared to /root/.cache/huggingface/datasets/ag_news/default/0.0.0/bc2bcb40336ace1a0374767fc29bb0296cdaf8a6da7298436239c54d79180548. Subsequent calls will reuse this data.\n"
          ]
        },
        {
          "data": {
            "application/vnd.jupyter.widget-view+json": {
              "model_id": "58f22b494c69401bacff74e4c6ea436e",
              "version_major": 2,
              "version_minor": 0
            },
            "text/plain": [
              "  0%|          | 0/2 [00:00<?, ?it/s]"
            ]
          },
          "metadata": {},
          "output_type": "display_data"
        },
        {
          "output_type": "stream",
          "name": "stderr",
          "text": [
            "\u001b[32m2023-06-23 18:41:14.481\u001b[0m | \u001b[1mINFO    \u001b[0m | \u001b[36mnomic.project\u001b[0m:\u001b[36m_create_project\u001b[0m:\u001b[36m1100\u001b[0m - \u001b[1mCreating project `abrupt-prairie` in organization `Atlas Demo`\u001b[0m\n",
            "\u001b[32m2023-06-23 18:41:15.768\u001b[0m | \u001b[1mINFO    \u001b[0m | \u001b[36mnomic.atlas\u001b[0m:\u001b[36mmap_text\u001b[0m:\u001b[36m214\u001b[0m - \u001b[1mUploading text to Atlas.\u001b[0m\n",
            "\u001b[32m2023-06-23 18:41:15.790\u001b[0m | \u001b[33m\u001b[1mWARNING \u001b[0m | \u001b[36mnomic.project\u001b[0m:\u001b[36m_validate_and_correct_arrow_upload\u001b[0m:\u001b[36m259\u001b[0m - \u001b[33m\u001b[1mid_field is not a string. Converting to string from int32\u001b[0m\n",
            "100%|██████████| 2/2 [00:02<00:00,  1.21s/it]\n",
            "\u001b[32m2023-06-23 18:41:18.231\u001b[0m | \u001b[1mINFO    \u001b[0m | \u001b[36mnomic.project\u001b[0m:\u001b[36m_add_data\u001b[0m:\u001b[36m1722\u001b[0m - \u001b[1mUpload succeeded.\u001b[0m\n",
            "\u001b[32m2023-06-23 18:41:18.235\u001b[0m | \u001b[1mINFO    \u001b[0m | \u001b[36mnomic.atlas\u001b[0m:\u001b[36mmap_text\u001b[0m:\u001b[36m230\u001b[0m - \u001b[1mText upload succeeded.\u001b[0m\n",
            "\u001b[32m2023-06-23 18:41:19.015\u001b[0m | \u001b[1mINFO    \u001b[0m | \u001b[36mnomic.project\u001b[0m:\u001b[36mcreate_index\u001b[0m:\u001b[36m1427\u001b[0m - \u001b[1mCreated map `abrupt-prairie` in project `abrupt-prairie`: https://atlas.nomic.ai/map/aa5db320-05ea-41a6-b53a-5b99a5945bad/3e080d60-d432-4713-a6a2-47dcc305a9c8\u001b[0m\n",
            "\u001b[32m2023-06-23 18:41:19.019\u001b[0m | \u001b[1mINFO    \u001b[0m | \u001b[36mnomic.atlas\u001b[0m:\u001b[36mmap_text\u001b[0m:\u001b[36m246\u001b[0m - \u001b[1mabrupt-prairie: https://atlas.nomic.ai/map/aa5db320-05ea-41a6-b53a-5b99a5945bad/3e080d60-d432-4713-a6a2-47dcc305a9c8\u001b[0m\n"
          ]
        }
      ]
    },
    {
      "cell_type": "code",
      "source": [
        "project.maps[0] #show the map in the notebook."
      ],
      "metadata": {
        "colab": {
          "base_uri": "https://localhost:8080/",
          "height": 34
        },
        "id": "RbNyaQkoGzw4",
        "outputId": "d5de0c63-ef5c-4878-db95-4bbcc0b250ff"
      },
      "execution_count": 6,
      "outputs": [
        {
          "output_type": "execute_result",
          "data": {
            "text/plain": [
              "abrupt-prairie: https://atlas.nomic.ai/map/aa5db320-05ea-41a6-b53a-5b99a5945bad/3e080d60-d432-4713-a6a2-47dcc305a9c8"
            ],
            "text/html": [
              "Atlas Projection abrupt-prairie. Status Atomizing. <a target=\"_blank\" href=\"https://atlas.nomic.ai/map/aa5db320-05ea-41a6-b53a-5b99a5945bad/3e080d60-d432-4713-a6a2-47dcc305a9c8\">view online</a>"
            ]
          },
          "metadata": {},
          "execution_count": 6
        }
      ]
    },
    {
      "cell_type": "code",
      "source": [
        "# Now perform similarity search over the map!\n",
        "map = project.maps[0]\n",
        "with project.wait_for_project_lock():\n",
        "  neighbors, _ = map.vector_search(ids=[0], k=5)\n",
        "\n",
        "#print the 5 most similar datapoints to the data point with id = 0 (including the point with id=0)\n",
        "similar_datapoints = project.get_data(ids=neighbors[0])\n",
        "for point in similar_datapoints:\n",
        "  print(point)\n",
        "\n"
      ],
      "metadata": {
        "id": "DioSN8X_HLRg",
        "colab": {
          "base_uri": "https://localhost:8080/"
        },
        "outputId": "05809451-dda8-4cc8-8e1a-e60609ef1ef1"
      },
      "execution_count": 7,
      "outputs": [
        {
          "output_type": "stream",
          "name": "stderr",
          "text": [
            "\u001b[32m2023-06-23 18:41:19.471\u001b[0m | \u001b[1mINFO    \u001b[0m | \u001b[36mnomic.project\u001b[0m:\u001b[36mwait_for_project_lock\u001b[0m:\u001b[36m1221\u001b[0m - \u001b[1mabrupt-prairie: Waiting for Project Lock Release.\u001b[0m\n"
          ]
        },
        {
          "output_type": "stream",
          "name": "stdout",
          "text": [
            "{'id': '0', 'text': 'Siebel moves toward self-repairing software com October 11, 2004, 3:34 PM PT. This fourth priority #39;s main focus has been enterprise directories as organizations spawn projects around identity infrastructure.', 'label': 3}\n",
            "{'id': '3578', 'text': 'Siebel moves toward self-repairing software Siebel Systems wants to cut the costs of tending its software by teaching the programs to manage themselves.', 'label': 3}\n",
            "{'id': '7031', 'text': 'The Customer Relationship Expert Takes a Dose of Its Own Medicine Since 1993, Siebel dominated the market for customer service software. In recent years, however, it has stumbled. Can it regain its former glory?', 'label': 2}\n",
            "{'id': '4892', 'text': 'The Customer Relationship Expert Takes a Dose of Its Own Medicine Since 1993, Siebel dominated the market for customer service software. In recent years, however, it has stumbled. Can it regain its former glory?', 'label': 2}\n",
            "{'id': '4127', 'text': 'Briefly: PeopleSoft extends customer assurance roundup Plus: Siebel moves toward self-repairing software...Monster says it could enter Japan by mid-2005...Novell to release Open Enterprise Server.', 'label': 3}\n"
          ]
        }
      ]
    },
    {
      "cell_type": "code",
      "source": [],
      "metadata": {
        "id": "b9to8vOpL0c1"
      },
      "execution_count": 7,
      "outputs": []
    }
  ]
}